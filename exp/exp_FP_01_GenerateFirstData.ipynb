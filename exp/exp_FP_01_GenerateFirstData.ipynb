{
 "cells": [
  {
   "cell_type": "code",
   "execution_count": 2,
   "id": "a3806c9f-0785-4f84-8197-7646deafa360",
   "metadata": {
    "execution": {
     "iopub.execute_input": "2024-11-23T11:02:13.804137Z",
     "iopub.status.busy": "2024-11-23T11:02:13.803394Z",
     "iopub.status.idle": "2024-11-23T11:02:13.812894Z",
     "shell.execute_reply": "2024-11-23T11:02:13.811388Z",
     "shell.execute_reply.started": "2024-11-23T11:02:13.804089Z"
    }
   },
   "outputs": [],
   "source": [
    "import numpy as np\n",
    "import matplotlib.pyplot as plt\n",
    "import pandas as pd"
   ]
  },
  {
   "cell_type": "code",
   "execution_count": 3,
   "id": "43df9c14-858a-4ee2-a7af-8fe2e7a99db9",
   "metadata": {
    "execution": {
     "iopub.execute_input": "2024-11-23T11:04:39.287410Z",
     "iopub.status.busy": "2024-11-23T11:04:39.285303Z",
     "iopub.status.idle": "2024-11-23T11:04:39.342913Z",
     "shell.execute_reply": "2024-11-23T11:04:39.339520Z",
     "shell.execute_reply.started": "2024-11-23T11:04:39.287324Z"
    },
    "scrolled": true
   },
   "outputs": [
    {
     "name": "stdout",
     "output_type": "stream",
     "text": [
      "          x1        x2        x3  y_continuous y_categorical\n",
      "0   0.533520  0.543085  0.893984      4.546080             B\n",
      "1   0.714119  0.743904  0.119002      4.203377             B\n",
      "2   0.325493  0.789206  0.554399      2.928728             B\n",
      "3   0.228712  0.381822  0.694399      2.786589             B\n",
      "4   0.987541  0.550945  0.004898      5.185072             A\n",
      "..       ...       ...       ...           ...           ...\n",
      "95  0.624695  0.995311  0.529423      6.024195             A\n",
      "96  0.706491  0.619494  0.975037      7.685146             A\n",
      "97  0.922969  0.242019  0.402067      5.851546             A\n",
      "98  0.156821  0.624326  0.224659      2.837609             B\n",
      "99  0.875626  0.826088  0.681208      4.597759             B\n",
      "\n",
      "[100 rows x 5 columns]\n"
     ]
    }
   ],
   "source": [
    "# Set the seed\n",
    "np.random.seed(3103)\n",
    "\n",
    "# Parameters\n",
    "n_samples = 100  # Number of samples\n",
    "coef_x1, coef_x2, coef_x3 = 3, 2, 2  # Coefficients for x1, x2, x3\n",
    "intercept = 1  # Intercept\n",
    "std_error = 1  # Standard deviation for error term\n",
    "\n",
    "# Generate random predictors\n",
    "x1 = np.random.uniform(0, 1, n_samples)\n",
    "x2 = np.random.uniform(0, 1, n_samples)\n",
    "x3 = np.random.uniform(0, 1, n_samples)\n",
    "\n",
    "# Generate error term\n",
    "e = np.random.normal(0, std_error, n_samples)\n",
    "\n",
    "# Calculate y (continuous)\n",
    "y_continuous = intercept + coef_x1 * x1 + coef_x2 * x2 + coef_x3 * x3 + e\n",
    "\n",
    "# Convert y to categorical\n",
    "y_categorical = np.where(y_continuous > np.median(y_continuous), 'A', 'B')\n",
    "\n",
    "# Combine into a DataFrame for convenience\n",
    "data = pd.DataFrame({\n",
    "    'x1': x1,\n",
    "    'x2': x2,\n",
    "    'x3': x3,\n",
    "    'y_continuous': y_continuous,\n",
    "    'y_categorical': y_categorical\n",
    "})\n",
    "\n",
    "print(data)"
   ]
  },
  {
   "cell_type": "code",
   "execution_count": 4,
   "id": "8d8ccb86-87b2-47f1-87d4-3792e28d61ca",
   "metadata": {
    "execution": {
     "iopub.execute_input": "2024-11-23T11:04:46.949131Z",
     "iopub.status.busy": "2024-11-23T11:04:46.947331Z",
     "iopub.status.idle": "2024-11-23T11:04:46.969915Z",
     "shell.execute_reply": "2024-11-23T11:04:46.967195Z",
     "shell.execute_reply.started": "2024-11-23T11:04:46.949047Z"
    }
   },
   "outputs": [],
   "source": [
    "data.to_csv('../dat/first_data.csv', index=False)"
   ]
  }
 ],
 "metadata": {
  "kernelspec": {
   "display_name": "Python 3 (ipykernel)",
   "language": "python",
   "name": "python3"
  },
  "language_info": {
   "codemirror_mode": {
    "name": "ipython",
    "version": 3
   },
   "file_extension": ".py",
   "mimetype": "text/x-python",
   "name": "python",
   "nbconvert_exporter": "python",
   "pygments_lexer": "ipython3",
   "version": "3.11.9"
  }
 },
 "nbformat": 4,
 "nbformat_minor": 5
}
