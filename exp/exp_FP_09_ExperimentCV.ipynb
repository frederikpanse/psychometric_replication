{
 "cells": [
  {
   "cell_type": "code",
   "execution_count": 1,
   "id": "88196767-783b-421f-95a7-4eb146ff59bf",
   "metadata": {
    "execution": {
     "iopub.execute_input": "2025-01-10T10:01:28.182030Z",
     "iopub.status.busy": "2025-01-10T10:01:28.181030Z",
     "iopub.status.idle": "2025-01-10T10:01:38.624262Z",
     "shell.execute_reply": "2025-01-10T10:01:38.623260Z",
     "shell.execute_reply.started": "2025-01-10T10:01:28.182030Z"
    }
   },
   "outputs": [
    {
     "name": "stdout",
     "output_type": "stream",
     "text": [
      "Starting iteration 1...\n"
     ]
    },
    {
     "ename": "ValueError",
     "evalue": "too many values to unpack (expected 2)",
     "output_type": "error",
     "traceback": [
      "\u001b[1;31m---------------------------------------------------------------------------\u001b[0m",
      "\u001b[1;31mValueError\u001b[0m                                Traceback (most recent call last)",
      "Cell \u001b[1;32mIn[1], line 48\u001b[0m\n\u001b[0;32m     45\u001b[0m     \u001b[38;5;28;01mcontinue\u001b[39;00m\n\u001b[0;32m     47\u001b[0m \u001b[38;5;66;03m# Preprocess data\u001b[39;00m\n\u001b[1;32m---> 48\u001b[0m X, y \u001b[38;5;241m=\u001b[39m preprocessor\u001b[38;5;241m.\u001b[39mpreprocess(data)\n\u001b[0;32m     50\u001b[0m \u001b[38;5;66;03m# Logistic Regression\u001b[39;00m\n\u001b[0;32m     51\u001b[0m \u001b[38;5;28;01mfor\u001b[39;00m link_function \u001b[38;5;129;01min\u001b[39;00m [\u001b[38;5;124m'\u001b[39m\u001b[38;5;124mlogit\u001b[39m\u001b[38;5;124m'\u001b[39m, \u001b[38;5;124m'\u001b[39m\u001b[38;5;124mprobit\u001b[39m\u001b[38;5;124m'\u001b[39m]:\n",
      "\u001b[1;31mValueError\u001b[0m: too many values to unpack (expected 2)"
     ]
    }
   ],
   "source": [
    "import numpy as np\n",
    "import pandas as pd\n",
    "from sklearn.model_selection import cross_val_score\n",
    "from sklearn.metrics import accuracy_score, precision_score, recall_score, f1_score\n",
    "from itertools import product\n",
    "\n",
    "from Logistic_Regression import LogisticRegression\n",
    "from Decision_Tree import DecisionTree\n",
    "from Random_Forest import RandomForest\n",
    "from ANN_Pytorch import ANN\n",
    "from prepare_data import DataPreprocessor\n",
    "from generate_data import DataGenerator\n",
    "\n",
    "# Configuration\n",
    "n_classes_dep_var = [2, 3, 4]\n",
    "n_ind_vars = [3, 5, 7]\n",
    "n_categorical_vars = np.arange(7)\n",
    "n_classes_ind_vars = [2, 3]\n",
    "n_samples = [100, 500, 1000, 10000]\n",
    "\n",
    "# Initialize preprocessor\n",
    "preprocessor = DataPreprocessor()\n",
    "\n",
    "# Initialize results storage\n",
    "results_list = []\n",
    "\n",
    "# Perform iterations\n",
    "for iteration in range(1):\n",
    "    print(f\"Starting iteration {iteration + 1}...\")\n",
    "\n",
    "    for n_classes_dep, n_ind, n_categorical, n_classes_ind, n_samp in product(\n",
    "        n_classes_dep_var, n_ind_vars, n_categorical_vars, n_classes_ind_vars, n_samples\n",
    "    ):\n",
    "        # Generate data\n",
    "        data_generator = DataGenerator(\n",
    "            n_classes_dep_var=n_classes_dep,\n",
    "            n_ind_vars=n_ind,\n",
    "            n_categorical_vars=n_categorical,\n",
    "            n_classes_ind_vars=n_classes_ind,\n",
    "            n_samples=n_samp\n",
    "        )\n",
    "        data = data_generator.generate_data()\n",
    "\n",
    "        if data is None:\n",
    "            continue\n",
    "\n",
    "        # Preprocess data\n",
    "        X, y = preprocessor.preprocess(data)\n",
    "\n",
    "        # Logistic Regression\n",
    "        for link_function in ['logit', 'probit']:\n",
    "            model = LogisticRegression(link_function=link_function)\n",
    "            scores = cross_val_score(model, X, y, cv=5, scoring='accuracy')\n",
    "            results_list.append([\n",
    "                iteration + 1, n_classes_dep, n_ind, n_categorical, n_classes_ind, n_samp,\n",
    "                'LogisticRegression', link_function, None, None, 1 - scores.mean(), scores.mean(), None, None, None\n",
    "            ])\n",
    "\n",
    "        # Decision Tree\n",
    "        model = DecisionTree()\n",
    "        scores = cross_val_score(model, X, y, cv=5, scoring='accuracy')\n",
    "        results_list.append([\n",
    "            iteration + 1, n_classes_dep, n_ind, n_categorical, n_classes_ind, n_samp,\n",
    "            'DecisionTree', None, None, None, 1 - scores.mean(), scores.mean(), None, None, None\n",
    "        ])\n",
    "\n",
    "        # Random Forest\n",
    "        model = RandomForest()\n",
    "        scores = cross_val_score(model, X, y, cv=5, scoring='accuracy')\n",
    "        results_list.append([\n",
    "            iteration + 1, n_classes_dep, n_ind, n_categorical, n_classes_ind, n_samp,\n",
    "            'RandomForest', None, None, None, 1 - scores.mean(), scores.mean(), None, None, None\n",
    "        ])\n",
    "\n",
    "        # ANN\n",
    "        model = ANN(nInput=X.shape[1], nOutput=1)\n",
    "        scores = cross_val_score(model, X, y, cv=5, scoring='accuracy')\n",
    "        results_list.append([\n",
    "            iteration + 1, n_classes_dep, n_ind, n_categorical, n_classes_ind, n_samp,\n",
    "            'ANN', None, None, None, 1 - scores.mean(), scores.mean(), None, None, None\n",
    "        ])\n",
    "\n",
    "# Save results to a DataFrame\n",
    "results_df = pd.DataFrame(results_list, columns=[\n",
    "    'Iteration', 'Classes_Dep_Var', 'Num_Ind_Vars', 'Num_Categorical_Vars',\n",
    "    'Classes_Ind_Vars', 'Sample_Size', 'Model', 'Hyperparameter_1', 'Hyperparameter_2',\n",
    "    'Hyperparameter_3', 'Misclassification', 'Accuracy', 'Precision', 'Recall', 'F1_Score'\n",
    "])\n",
    "\n",
    "# Save results to a CSV file\n",
    "# results_df.to_csv('model_results_cv.csv', index=False)\n",
    "# print(\"Results saved to model_results_cv.csv.\")"
   ]
  }
 ],
 "metadata": {
  "kernelspec": {
   "display_name": "Python (venv)",
   "language": "python",
   "name": "venv"
  },
  "language_info": {
   "codemirror_mode": {
    "name": "ipython",
    "version": 3
   },
   "file_extension": ".py",
   "mimetype": "text/x-python",
   "name": "python",
   "nbconvert_exporter": "python",
   "pygments_lexer": "ipython3",
   "version": "3.12.8"
  }
 },
 "nbformat": 4,
 "nbformat_minor": 5
}
