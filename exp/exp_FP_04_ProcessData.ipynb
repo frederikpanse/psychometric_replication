{
 "cells": [
  {
   "cell_type": "code",
   "execution_count": 1,
   "id": "e500de65-00b3-4cee-abf8-8c603c02ee95",
   "metadata": {
    "execution": {
     "iopub.execute_input": "2024-12-13T23:26:53.966128Z",
     "iopub.status.busy": "2024-12-13T23:26:53.965398Z",
     "iopub.status.idle": "2024-12-13T23:26:58.220197Z",
     "shell.execute_reply": "2024-12-13T23:26:58.218993Z",
     "shell.execute_reply.started": "2024-12-13T23:26:53.966037Z"
    }
   },
   "outputs": [],
   "source": [
    "import numpy as np\n",
    "import pandas as pd\n",
    "from sklearn.model_selection import train_test_split\n",
    "import sys\n",
    "import os\n",
    "\n",
    "# Add the parent directory to the Python path and import function\n",
    "current_dir = os.getcwd()\n",
    "parent_dir = os.path.dirname(current_dir)\n",
    "sys.path.append(parent_dir)\n",
    "from src.generate_data import generate_data"
   ]
  },
  {
   "cell_type": "code",
   "execution_count": 3,
   "id": "f6759f49-d369-45c8-a6ff-ec342dcdd3b3",
   "metadata": {
    "execution": {
     "iopub.execute_input": "2024-12-13T23:29:00.341178Z",
     "iopub.status.busy": "2024-12-13T23:29:00.340625Z",
     "iopub.status.idle": "2024-12-13T23:29:00.356489Z",
     "shell.execute_reply": "2024-12-13T23:29:00.354641Z",
     "shell.execute_reply.started": "2024-12-13T23:29:00.341134Z"
    }
   },
   "outputs": [
    {
     "name": "stdout",
     "output_type": "stream",
     "text": [
      "                     X1                   X2   X3   X4   X5  \\\n",
      "0    0.9206000662363981  0.37982853156092344  0.0  0.0  0.0   \n",
      "1   0.42232990446976915   0.5584867737718112  1.0  0.0  1.0   \n",
      "2    0.5795880677683354  0.06373612100860249  2.0  1.0  2.0   \n",
      "3    0.9847485286748107   0.7965545089558644  1.0  1.0  1.0   \n",
      "4   0.09586416757127747   0.7651175140128569  2.0  0.0  2.0   \n",
      "..                  ...                  ...  ...  ...  ...   \n",
      "95   0.4593257341801228   0.5301704964521669  2.0  2.0  1.0   \n",
      "96   0.6446990616047744   0.9257052030051219  2.0  1.0  1.0   \n",
      "97   0.6180033510798367   0.7043289731777397  0.0  1.0  1.0   \n",
      "98  0.12123287215558598  0.41137122111931446  0.0  1.0  0.0   \n",
      "99   0.1571849946441377  0.27797059690543025  0.0  2.0  1.0   \n",
      "\n",
      "                y_cont y_cat  \n",
      "0    4.348443280021693     A  \n",
      "1    4.482679780885381     A  \n",
      "2   10.795978782738915     B  \n",
      "3   10.198947616278604     B  \n",
      "4     9.59256090791424     B  \n",
      "..                 ...   ...  \n",
      "95  11.105327255947447     B  \n",
      "96   11.42242577380963     B  \n",
      "97   6.604302071187369     C  \n",
      "98   4.798279359197629     A  \n",
      "99   6.313125788512655     C  \n",
      "\n",
      "[100 rows x 7 columns]\n"
     ]
    }
   ],
   "source": [
    "# test\n",
    "df = generate_data(3, 5, 3, 3, 100)\n",
    "print(df)"
   ]
  },
  {
   "cell_type": "code",
   "execution_count": 7,
   "id": "deb2bd80-5a3b-4c51-8d5d-8b50db5da950",
   "metadata": {
    "execution": {
     "iopub.execute_input": "2024-12-13T23:35:23.475921Z",
     "iopub.status.busy": "2024-12-13T23:35:23.474971Z",
     "iopub.status.idle": "2024-12-13T23:35:23.488540Z",
     "shell.execute_reply": "2024-12-13T23:35:23.486992Z",
     "shell.execute_reply.started": "2024-12-13T23:35:23.475875Z"
    }
   },
   "outputs": [
    {
     "name": "stdout",
     "output_type": "stream",
     "text": [
      "                     X1                   X2   X3   X4   X5\n",
      "0    0.9206000662363981  0.37982853156092344  0.0  0.0  0.0\n",
      "1   0.42232990446976915   0.5584867737718112  1.0  0.0  1.0\n",
      "2    0.5795880677683354  0.06373612100860249  2.0  1.0  2.0\n",
      "3    0.9847485286748107   0.7965545089558644  1.0  1.0  1.0\n",
      "4   0.09586416757127747   0.7651175140128569  2.0  0.0  2.0\n",
      "..                  ...                  ...  ...  ...  ...\n",
      "95   0.4593257341801228   0.5301704964521669  2.0  2.0  1.0\n",
      "96   0.6446990616047744   0.9257052030051219  2.0  1.0  1.0\n",
      "97   0.6180033510798367   0.7043289731777397  0.0  1.0  1.0\n",
      "98  0.12123287215558598  0.41137122111931446  0.0  1.0  0.0\n",
      "99   0.1571849946441377  0.27797059690543025  0.0  2.0  1.0\n",
      "\n",
      "[100 rows x 5 columns]\n",
      "0     A\n",
      "1     A\n",
      "2     B\n",
      "3     B\n",
      "4     B\n",
      "     ..\n",
      "95    B\n",
      "96    B\n",
      "97    C\n",
      "98    A\n",
      "99    C\n",
      "Name: y_cat, Length: 100, dtype: object\n"
     ]
    }
   ],
   "source": [
    "X = df.filter(like='X')\n",
    "y = df['y_cat']\n",
    "print(X)\n",
    "print(y)"
   ]
  },
  {
   "cell_type": "code",
   "execution_count": 8,
   "id": "68d64d25-f52d-4216-abbe-ccc36bca3a30",
   "metadata": {
    "execution": {
     "iopub.execute_input": "2024-12-13T23:35:45.082233Z",
     "iopub.status.busy": "2024-12-13T23:35:45.081503Z",
     "iopub.status.idle": "2024-12-13T23:35:45.095111Z",
     "shell.execute_reply": "2024-12-13T23:35:45.093775Z",
     "shell.execute_reply.started": "2024-12-13T23:35:45.082173Z"
    }
   },
   "outputs": [],
   "source": [
    "# Split the data\n",
    "X_train, X_test, y_train, y_test = train_test_split(X, y, test_size=0.3, random_state=3103, stratify=y)"
   ]
  },
  {
   "cell_type": "code",
   "execution_count": 9,
   "id": "ff81dd2c-37f9-44b4-9d28-4d54f4875e4e",
   "metadata": {
    "execution": {
     "iopub.execute_input": "2024-12-13T23:35:55.285600Z",
     "iopub.status.busy": "2024-12-13T23:35:55.284245Z",
     "iopub.status.idle": "2024-12-13T23:35:55.297385Z",
     "shell.execute_reply": "2024-12-13T23:35:55.296085Z",
     "shell.execute_reply.started": "2024-12-13T23:35:55.285534Z"
    }
   },
   "outputs": [
    {
     "name": "stdout",
     "output_type": "stream",
     "text": [
      "                     X1                   X2   X3   X4   X5\n",
      "14   0.7406161566433683  0.30590719995532445  0.0  1.0  1.0\n",
      "66   0.8055847644515719   0.4316657904100666  2.0  0.0  1.0\n",
      "55  0.03095222441385026  0.02822362144746826  0.0  0.0  1.0\n",
      "34   0.8874797631653507   0.7218039949995171  2.0  0.0  0.0\n",
      "30   0.8001591655498492   0.4557948719928543  0.0  1.0  1.0\n",
      "..                  ...                  ...  ...  ...  ...\n",
      "75   0.6909116324414769   0.8228643541727452  0.0  1.0  0.0\n",
      "60   0.9485519357154651  0.26856677775125204  2.0  1.0  1.0\n",
      "76    0.948575421009554  0.41784296713272107  1.0  1.0  1.0\n",
      "54  0.37404776050824595   0.6775633902017828  2.0  1.0  1.0\n",
      "81   0.8624783858959936   0.6467528496174897  2.0  1.0  0.0\n",
      "\n",
      "[70 rows x 5 columns]\n"
     ]
    }
   ],
   "source": [
    "print(X_train)"
   ]
  },
  {
   "cell_type": "code",
   "execution_count": 10,
   "id": "bf78466a-6e25-49b4-909b-1c8fd805db98",
   "metadata": {
    "execution": {
     "iopub.execute_input": "2024-12-13T23:38:44.531716Z",
     "iopub.status.busy": "2024-12-13T23:38:44.530799Z",
     "iopub.status.idle": "2024-12-13T23:38:44.538020Z",
     "shell.execute_reply": "2024-12-13T23:38:44.536804Z",
     "shell.execute_reply.started": "2024-12-13T23:38:44.531671Z"
    }
   },
   "outputs": [],
   "source": [
    "# create function to pre process data\n",
    "def prepare_data(data): \n",
    "    X = data.filter(like='X') \n",
    "    y = data['y_cat'] \n",
    "    X_train, X_test, y_train, y_test = train_test_split(X, y, test_size=0.3, random_state=3103, stratify=y)\n",
    "    return X_train, X_test, y_train, y_test"
   ]
  },
  {
   "cell_type": "code",
   "execution_count": 12,
   "id": "f3611f23-64af-45ce-82f0-ee626e6acf82",
   "metadata": {
    "execution": {
     "iopub.execute_input": "2024-12-13T23:40:29.330940Z",
     "iopub.status.busy": "2024-12-13T23:40:29.329996Z",
     "iopub.status.idle": "2024-12-13T23:40:29.340008Z",
     "shell.execute_reply": "2024-12-13T23:40:29.338845Z",
     "shell.execute_reply.started": "2024-12-13T23:40:29.330894Z"
    }
   },
   "outputs": [],
   "source": [
    "# test function\n",
    "X_train, X_test, y_train, y_test = prepare_data(df)"
   ]
  },
  {
   "cell_type": "code",
   "execution_count": 14,
   "id": "6c66276d-e514-45b4-aade-a419da490e88",
   "metadata": {
    "execution": {
     "iopub.execute_input": "2024-12-13T23:41:06.953594Z",
     "iopub.status.busy": "2024-12-13T23:41:06.952968Z",
     "iopub.status.idle": "2024-12-13T23:41:06.971024Z",
     "shell.execute_reply": "2024-12-13T23:41:06.965835Z",
     "shell.execute_reply.started": "2024-12-13T23:41:06.953542Z"
    }
   },
   "outputs": [
    {
     "name": "stdout",
     "output_type": "stream",
     "text": [
      "                     X1                   X2   X3   X4   X5\n",
      "14   0.7406161566433683  0.30590719995532445  0.0  1.0  1.0\n",
      "66   0.8055847644515719   0.4316657904100666  2.0  0.0  1.0\n",
      "55  0.03095222441385026  0.02822362144746826  0.0  0.0  1.0\n",
      "34   0.8874797631653507   0.7218039949995171  2.0  0.0  0.0\n",
      "30   0.8001591655498492   0.4557948719928543  0.0  1.0  1.0\n",
      "..                  ...                  ...  ...  ...  ...\n",
      "75   0.6909116324414769   0.8228643541727452  0.0  1.0  0.0\n",
      "60   0.9485519357154651  0.26856677775125204  2.0  1.0  1.0\n",
      "76    0.948575421009554  0.41784296713272107  1.0  1.0  1.0\n",
      "54  0.37404776050824595   0.6775633902017828  2.0  1.0  1.0\n",
      "81   0.8624783858959936   0.6467528496174897  2.0  1.0  0.0\n",
      "\n",
      "[70 rows x 5 columns]\n",
      "14    C\n",
      "66    C\n",
      "55    A\n",
      "34    C\n",
      "30    C\n",
      "     ..\n",
      "75    C\n",
      "60    C\n",
      "76    C\n",
      "54    B\n",
      "81    C\n",
      "Name: y_cat, Length: 70, dtype: object\n"
     ]
    }
   ],
   "source": [
    "print(X_train)\n",
    "print(y_train)"
   ]
  }
 ],
 "metadata": {
  "kernelspec": {
   "display_name": "Python (venv)",
   "language": "python",
   "name": "venv"
  },
  "language_info": {
   "codemirror_mode": {
    "name": "ipython",
    "version": 3
   },
   "file_extension": ".py",
   "mimetype": "text/x-python",
   "name": "python",
   "nbconvert_exporter": "python",
   "pygments_lexer": "ipython3",
   "version": "3.10.15"
  }
 },
 "nbformat": 4,
 "nbformat_minor": 5
}
