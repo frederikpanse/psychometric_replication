{
 "cells": [
  {
   "cell_type": "code",
   "execution_count": 7,
   "id": "e500de65-00b3-4cee-abf8-8c603c02ee95",
   "metadata": {
    "execution": {
     "iopub.execute_input": "2024-12-13T12:01:42.676855Z",
     "iopub.status.busy": "2024-12-13T12:01:42.676321Z",
     "iopub.status.idle": "2024-12-13T12:01:42.688122Z",
     "shell.execute_reply": "2024-12-13T12:01:42.687184Z",
     "shell.execute_reply.started": "2024-12-13T12:01:42.676830Z"
    }
   },
   "outputs": [],
   "source": [
    "import numpy as np\n",
    "import pandas as pd\n",
    "from sklearn.model_selection import train_test_split\n",
    "import sys\n",
    "import os\n",
    "\n",
    "# Add the parent directory to the Python path and import function\n",
    "current_dir = os.getcwd()\n",
    "parent_dir = os.path.dirname(current_dir)\n",
    "sys.path.append(parent_dir)\n",
    "from src.generate_data import generate_data"
   ]
  },
  {
   "cell_type": "code",
   "execution_count": 8,
   "id": "f6759f49-d369-45c8-a6ff-ec342dcdd3b3",
   "metadata": {
    "execution": {
     "iopub.execute_input": "2024-12-13T12:03:04.144092Z",
     "iopub.status.busy": "2024-12-13T12:03:04.143422Z",
     "iopub.status.idle": "2024-12-13T12:03:04.173677Z",
     "shell.execute_reply": "2024-12-13T12:03:04.172735Z",
     "shell.execute_reply.started": "2024-12-13T12:03:04.144067Z"
    }
   },
   "outputs": [
    {
     "name": "stdout",
     "output_type": "stream",
     "text": [
      "                     X1                   X2   X3   X4   X5  \\\n",
      "0    0.5909136736873981   0.6813508629688175  0.0  2.0  2.0   \n",
      "1    0.7243726412324538   0.6893665818940313  0.0  1.0  1.0   \n",
      "2   0.29045121522783357   0.8823896471335544  1.0  1.0  1.0   \n",
      "3   0.42305212185941743  0.16138196211208466  1.0  0.0  0.0   \n",
      "4    0.6524627657996576   0.6211632537539629  0.0  2.0  0.0   \n",
      "..                  ...                  ...  ...  ...  ...   \n",
      "95  0.19551315515008305   0.7376971896689881  2.0  1.0  1.0   \n",
      "96   0.9632010186399282   0.9465434422112342  2.0  0.0  1.0   \n",
      "97   0.9059941172223215   0.4247644662515654  1.0  2.0  2.0   \n",
      "98  0.07324522590828653  0.42341541657782766  2.0  0.0  1.0   \n",
      "99  0.09750353663227218   0.5630462225677487  1.0  1.0  1.0   \n",
      "\n",
      "                y_cont y_cat  \n",
      "0    7.058406701206055     C  \n",
      "1    6.866832532898221     C  \n",
      "2     8.51716602199276     C  \n",
      "3    4.245737574905483     A  \n",
      "4    6.259357514141596     C  \n",
      "..                 ...   ...  \n",
      "95   9.127414294146945     C  \n",
      "96   10.46833865963109     B  \n",
      "97  11.224432320631639     B  \n",
      "98   6.246825845448657     C  \n",
      "99   8.107591724655101     C  \n",
      "\n",
      "[100 rows x 7 columns]\n"
     ]
    }
   ],
   "source": [
    "# test\n",
    "data = generate_data(3, 5, 3, 3, 100)\n",
    "print(data)"
   ]
  }
 ],
 "metadata": {
  "kernelspec": {
   "display_name": "Python (venv)",
   "language": "python",
   "name": "venv"
  },
  "language_info": {
   "codemirror_mode": {
    "name": "ipython",
    "version": 3
   },
   "file_extension": ".py",
   "mimetype": "text/x-python",
   "name": "python",
   "nbconvert_exporter": "python",
   "pygments_lexer": "ipython3",
   "version": "3.13.0"
  }
 },
 "nbformat": 4,
 "nbformat_minor": 5
}
