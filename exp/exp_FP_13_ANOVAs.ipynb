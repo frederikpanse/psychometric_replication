{
 "cells": [
  {
   "cell_type": "code",
   "execution_count": 16,
   "id": "0891b002-ccfc-4ea5-b80d-45720801582d",
   "metadata": {
    "execution": {
     "iopub.execute_input": "2025-01-30T08:00:39.279653Z",
     "iopub.status.busy": "2025-01-30T08:00:39.279653Z",
     "iopub.status.idle": "2025-01-30T08:00:39.283486Z",
     "shell.execute_reply": "2025-01-30T08:00:39.283486Z",
     "shell.execute_reply.started": "2025-01-30T08:00:39.279653Z"
    }
   },
   "outputs": [],
   "source": [
    "import pandas as pd\n",
    "import statsmodels.api as sm\n",
    "from statsmodels.formula.api import ols"
   ]
  },
  {
   "cell_type": "markdown",
   "id": "30ad42f0-1f31-409a-b889-4f51b996d2f4",
   "metadata": {},
   "source": [
    "### Continuous Independent Variables"
   ]
  },
  {
   "cell_type": "code",
   "execution_count": 17,
   "id": "04ff26fe-3124-449e-8d9d-9184612518b9",
   "metadata": {
    "execution": {
     "iopub.execute_input": "2025-01-30T08:00:39.836301Z",
     "iopub.status.busy": "2025-01-30T08:00:39.836301Z",
     "iopub.status.idle": "2025-01-30T08:00:39.852731Z",
     "shell.execute_reply": "2025-01-30T08:00:39.852731Z",
     "shell.execute_reply.started": "2025-01-30T08:00:39.836301Z"
    }
   },
   "outputs": [],
   "source": [
    "# load data and convert to categorical variables\n",
    "table3 = pd.read_csv('../dat/table3.csv')\n",
    "table3['S'] = table3['Sample_Size'].astype('category')\n",
    "table3['CL_Y'] = table3['Classes_Dep_Var'].astype('category')\n",
    "table3['V'] = table3['Num_Ind_Vars'].astype('category')\n",
    "\n",
    "# Reshape data into long format\n",
    "table3_long = table3.melt(id_vars=['CL_Y', 'V', 'S'], \n",
    "                          value_vars=['ANN', 'DT', 'LR'], \n",
    "                          var_name='Model', \n",
    "                          value_name='Score')\n",
    "\n",
    "# Convert Model into categorical\n",
    "table3_long['Model'] = table3_long['Model'].astype('category')"
   ]
  },
  {
   "cell_type": "code",
   "execution_count": 18,
   "id": "65d29332-7d91-457e-9824-ce96f9c6fdbc",
   "metadata": {
    "execution": {
     "iopub.execute_input": "2025-01-30T08:00:40.245428Z",
     "iopub.status.busy": "2025-01-30T08:00:40.245428Z",
     "iopub.status.idle": "2025-01-30T08:00:40.282000Z",
     "shell.execute_reply": "2025-01-30T08:00:40.282000Z",
     "shell.execute_reply.started": "2025-01-30T08:00:40.245428Z"
    }
   },
   "outputs": [
    {
     "name": "stdout",
     "output_type": "stream",
     "text": [
      "                  sum_sq    df         F  PR(>F)\n",
      "C(CL_Y)           1.3895   2.0  707.2997  0.0000\n",
      "C(V)              0.0246   2.0   12.5360  0.0000\n",
      "C(S)              0.0150   3.0    5.0789  0.0031\n",
      "C(Model)          0.1052   2.0   53.5352  0.0000\n",
      "C(CL_Y):C(V)      0.0023   4.0    0.5945  0.6678\n",
      "C(CL_Y):C(S)      0.0385   6.0    6.5339  0.0000\n",
      "C(CL_Y):C(Model)  0.0036   4.0    0.9088  0.4639\n",
      "C(V):C(S)         0.0706   6.0   11.9852  0.0000\n",
      "C(V):C(Model)     0.0009   4.0    0.2229  0.9247\n",
      "C(S):C(Model)     0.0102   6.0    1.7384  0.1254\n",
      "Residual          0.0668  68.0       NaN     NaN\n"
     ]
    }
   ],
   "source": [
    "# Fit the ANOVA model with only main effects and two-way interactions\n",
    "model = ols('Score ~ C(CL_Y) + C(V) + C(S) + C(Model) + \\\n",
    "             C(CL_Y):C(V) + C(CL_Y):C(S) + C(CL_Y):C(Model) + \\\n",
    "             C(V):C(S) + C(V):C(Model) + C(S):C(Model)', data=table3_long).fit()\n",
    "\n",
    "# Perform ANOVA (Type II)\n",
    "anova_results = sm.stats.anova_lm(model, typ=2)\n",
    "\n",
    "# Print results\n",
    "print(anova_results.round(4))"
   ]
  },
  {
   "cell_type": "markdown",
   "id": "a3f0acdf-569e-429c-87c3-112fabe68025",
   "metadata": {
    "execution": {
     "iopub.execute_input": "2025-01-30T17:22:30.174940Z",
     "iopub.status.busy": "2025-01-30T17:22:30.173935Z",
     "iopub.status.idle": "2025-01-30T17:22:30.180871Z",
     "shell.execute_reply": "2025-01-30T17:22:30.179866Z",
     "shell.execute_reply.started": "2025-01-30T17:22:30.174940Z"
    }
   },
   "source": [
    "### Categorical Independent Variables (V=3)"
   ]
  },
  {
   "cell_type": "code",
   "execution_count": 20,
   "id": "6b3be2d8-bbc7-41fd-86a8-d09121ed672e",
   "metadata": {
    "execution": {
     "iopub.execute_input": "2025-01-30T13:00:34.033071Z",
     "iopub.status.busy": "2025-01-30T13:00:34.032072Z",
     "iopub.status.idle": "2025-01-30T13:00:34.049032Z",
     "shell.execute_reply": "2025-01-30T13:00:34.049032Z",
     "shell.execute_reply.started": "2025-01-30T13:00:34.033071Z"
    }
   },
   "outputs": [],
   "source": [
    "# load data and convert to categorical variables\n",
    "table4 = pd.read_csv('../dat/table4.csv')\n",
    "table4['S'] = table4['Sample_Size'].astype('category')\n",
    "table4['CL_Y'] = table4['Classes_Dep_Var'].astype('category')\n",
    "table4['CA'] = table4['Num_Categorical_Vars'].astype('category')\n",
    "table4['CL_X'] = table4['Classes_Ind_Vars'].astype('category')\n",
    "\n",
    "# Reshape data into long format\n",
    "table4_long = table4.melt(id_vars=['CL_Y', 'CL_X', 'S', 'CA'], \n",
    "                          value_vars=['ANN', 'DT', 'LR'], \n",
    "                          var_name='Model', \n",
    "                          value_name='Score')\n",
    "\n",
    "# Convert Model into categorical\n",
    "table4_long['Model'] = table4_long['Model'].astype('category')"
   ]
  },
  {
   "cell_type": "code",
   "execution_count": 21,
   "id": "9fea2ef7-150f-4bca-a2ec-4579c9bb55eb",
   "metadata": {
    "execution": {
     "iopub.execute_input": "2025-01-30T13:02:41.428714Z",
     "iopub.status.busy": "2025-01-30T13:02:41.427715Z",
     "iopub.status.idle": "2025-01-30T13:02:41.487014Z",
     "shell.execute_reply": "2025-01-30T13:02:41.487014Z",
     "shell.execute_reply.started": "2025-01-30T13:02:41.428714Z"
    }
   },
   "outputs": [
    {
     "name": "stdout",
     "output_type": "stream",
     "text": [
      "                  sum_sq     df         F  PR(>F)\n",
      "C(CL_Y)           1.2611    2.0  490.1805  0.0000\n",
      "C(CL_X)           0.0646    1.0   50.1851  0.0000\n",
      "C(S)              0.0089    3.0    2.3119  0.0805\n",
      "C(CA)             0.0574    1.0   44.6413  0.0000\n",
      "C(Model)          0.0413    2.0   16.0685  0.0000\n",
      "C(CL_Y):C(CL_X)   0.0001    2.0    0.0242  0.9761\n",
      "C(CL_Y):C(S)      0.0444    6.0    5.7508  0.0000\n",
      "C(CL_Y):C(CA)     0.0144    2.0    5.5843  0.0050\n",
      "C(CL_Y):C(Model)  0.0089    4.0    1.7365  0.1476\n",
      "C(CL_X):C(S)      0.0082    3.0    2.1336  0.1005\n",
      "C(CL_X):C(CA)     0.0001    1.0    0.1073  0.7439\n",
      "C(CL_X):C(Model)  0.0025    2.0    0.9589  0.3867\n",
      "C(S):C(CA)        0.0114    3.0    2.9506  0.0362\n",
      "C(S):C(Model)     0.0080    6.0    1.0414  0.4031\n",
      "C(CA):C(Model)    0.0013    2.0    0.4915  0.6132\n",
      "Residual          0.1325  103.0       NaN     NaN\n"
     ]
    }
   ],
   "source": [
    "model = ols('Score ~ C(CL_Y) + C(CL_X) + C(S) + C(CA) + C(Model) + \\\n",
    "             C(CL_Y):C(CL_X) + C(CL_Y):C(S) + C(CL_Y):C(CA) + C(CL_Y):C(Model) + \\\n",
    "             C(CL_X):C(S) + C(CL_X):C(CA) + C(CL_X):C(Model) + \\\n",
    "             C(S):C(CA) + C(S):C(Model) + C(CA):C(Model)', data=table4_long).fit()\n",
    "\n",
    "# Perform ANOVA (Type II)\n",
    "anova_results = sm.stats.anova_lm(model, typ=2)\n",
    "\n",
    "# Print results\n",
    "print(anova_results.round(4))"
   ]
  },
  {
   "cell_type": "markdown",
   "id": "c78dbaa0-6a7a-42af-870f-ae8d742ad9c1",
   "metadata": {
    "execution": {
     "iopub.execute_input": "2025-01-30T17:22:30.174940Z",
     "iopub.status.busy": "2025-01-30T17:22:30.173935Z",
     "iopub.status.idle": "2025-01-30T17:22:30.180871Z",
     "shell.execute_reply": "2025-01-30T17:22:30.179866Z",
     "shell.execute_reply.started": "2025-01-30T17:22:30.174940Z"
    }
   },
   "source": [
    "### Categorical Independent Variables (V=5)"
   ]
  },
  {
   "cell_type": "code",
   "execution_count": 23,
   "id": "e866f399-c7a3-46da-bf6e-32157d6b9fb5",
   "metadata": {
    "execution": {
     "iopub.execute_input": "2025-01-30T17:23:45.360256Z",
     "iopub.status.busy": "2025-01-30T17:23:45.360256Z",
     "iopub.status.idle": "2025-01-30T17:23:45.385026Z",
     "shell.execute_reply": "2025-01-30T17:23:45.385026Z",
     "shell.execute_reply.started": "2025-01-30T17:23:45.360256Z"
    }
   },
   "outputs": [],
   "source": [
    "# load data and convert to categorical variables\n",
    "table5 = pd.read_csv('../dat/table5.csv')\n",
    "table5['S'] = table5['Sample_Size'].astype('category')\n",
    "table5['CL_Y'] = table5['Classes_Dep_Var'].astype('category')\n",
    "table5['CA'] = table5['Num_Categorical_Vars'].astype('category')\n",
    "table5['CL_X'] = table5['Classes_Ind_Vars'].astype('category')\n",
    "\n",
    "# Reshape data into long format\n",
    "table5_long = table5.melt(id_vars=['CL_Y', 'CL_X', 'S', 'CA'], \n",
    "                          value_vars=['ANN', 'DT', 'LR'], \n",
    "                          var_name='Model', \n",
    "                          value_name='Score')\n",
    "\n",
    "# Convert Model into categorical\n",
    "table5_long['Model'] = table5_long['Model'].astype('category')"
   ]
  },
  {
   "cell_type": "code",
   "execution_count": 24,
   "id": "5d81e798-ee2d-48cd-af03-033326cfa5d2",
   "metadata": {
    "execution": {
     "iopub.execute_input": "2025-01-30T17:23:52.416510Z",
     "iopub.status.busy": "2025-01-30T17:23:52.416510Z",
     "iopub.status.idle": "2025-01-30T17:23:52.489610Z",
     "shell.execute_reply": "2025-01-30T17:23:52.488603Z",
     "shell.execute_reply.started": "2025-01-30T17:23:52.416510Z"
    }
   },
   "outputs": [
    {
     "name": "stdout",
     "output_type": "stream",
     "text": [
      "                  sum_sq     df         F  PR(>F)\n",
      "C(CL_Y)           3.1311    2.0  894.5935  0.0000\n",
      "C(CL_X)           0.0120    1.0    6.8544  0.0094\n",
      "C(S)              0.0434    3.0    8.2701  0.0000\n",
      "C(CA)             0.3472    3.0   66.1390  0.0000\n",
      "C(Model)          0.3828    2.0  109.3633  0.0000\n",
      "C(CL_Y):C(CL_X)   0.0301    2.0    8.5897  0.0003\n",
      "C(CL_Y):C(S)      0.0696    6.0    6.6282  0.0000\n",
      "C(CL_Y):C(CA)     0.0164    6.0    1.5624  0.1591\n",
      "C(CL_Y):C(Model)  0.0029    4.0    0.4171  0.7962\n",
      "C(CL_X):C(S)      0.0200    3.0    3.8010  0.0109\n",
      "C(CL_X):C(CA)     0.0008    3.0    0.1598  0.9233\n",
      "C(CL_X):C(Model)  0.0064    2.0    1.8253  0.1635\n",
      "C(S):C(CA)        0.0560    9.0    3.5578  0.0004\n",
      "C(S):C(Model)     0.0234    6.0    2.2295  0.0413\n",
      "C(CA):C(Model)    0.0086    6.0    0.8222  0.5537\n",
      "Residual          0.4007  229.0       NaN     NaN\n"
     ]
    }
   ],
   "source": [
    "model = ols('Score ~ C(CL_Y) + C(CL_X) + C(S) + C(CA) + C(Model) + \\\n",
    "             C(CL_Y):C(CL_X) + C(CL_Y):C(S) + C(CL_Y):C(CA) + C(CL_Y):C(Model) + \\\n",
    "             C(CL_X):C(S) + C(CL_X):C(CA) + C(CL_X):C(Model) + \\\n",
    "             C(S):C(CA) + C(S):C(Model) + C(CA):C(Model)', data=table5_long).fit()\n",
    "\n",
    "# Perform ANOVA (Type II)\n",
    "anova_results = sm.stats.anova_lm(model, typ=2)\n",
    "\n",
    "# Print results\n",
    "print(anova_results.round(4))"
   ]
  },
  {
   "cell_type": "markdown",
   "id": "451bcafc-cb1e-49a8-86e0-5a2169963955",
   "metadata": {
    "execution": {
     "iopub.execute_input": "2025-01-30T17:22:30.174940Z",
     "iopub.status.busy": "2025-01-30T17:22:30.173935Z",
     "iopub.status.idle": "2025-01-30T17:22:30.180871Z",
     "shell.execute_reply": "2025-01-30T17:22:30.179866Z",
     "shell.execute_reply.started": "2025-01-30T17:22:30.174940Z"
    }
   },
   "source": [
    "### Categorical Independent Variables (V=7)"
   ]
  },
  {
   "cell_type": "code",
   "execution_count": 25,
   "id": "00cbca32-1d0f-429f-8b5c-4b9a9d14bae8",
   "metadata": {
    "execution": {
     "iopub.execute_input": "2025-01-30T19:47:49.859618Z",
     "iopub.status.busy": "2025-01-30T19:47:49.858603Z",
     "iopub.status.idle": "2025-01-30T19:47:49.908192Z",
     "shell.execute_reply": "2025-01-30T19:47:49.908192Z",
     "shell.execute_reply.started": "2025-01-30T19:47:49.859618Z"
    }
   },
   "outputs": [],
   "source": [
    "# load data and convert to categorical variables\n",
    "table6 = pd.read_csv('../dat/table6.csv')\n",
    "table6['S'] = table6['Sample_Size'].astype('category')\n",
    "table6['CL_Y'] = table6['Classes_Dep_Var'].astype('category')\n",
    "table6['CA'] = table6['Num_Categorical_Vars'].astype('category')\n",
    "table6['CL_X'] = table6['Classes_Ind_Vars'].astype('category')\n",
    "\n",
    "# Reshape data into long format\n",
    "table6_long = table6.melt(id_vars=['CL_Y', 'CL_X', 'S', 'CA'], \n",
    "                          value_vars=['ANN', 'DT', 'LR'], \n",
    "                          var_name='Model', \n",
    "                          value_name='Score')\n",
    "\n",
    "# Convert Model into categorical\n",
    "table6_long['Model'] = table6_long['Model'].astype('category')"
   ]
  },
  {
   "cell_type": "code",
   "execution_count": 26,
   "id": "29dc68c9-75bf-4041-8cfb-98b9691f0a2a",
   "metadata": {
    "execution": {
     "iopub.execute_input": "2025-01-30T19:47:51.313200Z",
     "iopub.status.busy": "2025-01-30T19:47:51.313200Z",
     "iopub.status.idle": "2025-01-30T19:47:51.387310Z",
     "shell.execute_reply": "2025-01-30T19:47:51.387310Z",
     "shell.execute_reply.started": "2025-01-30T19:47:51.313200Z"
    }
   },
   "outputs": [
    {
     "name": "stdout",
     "output_type": "stream",
     "text": [
      "                  sum_sq     df          F  PR(>F)\n",
      "C(CL_Y)           5.3489    2.0  2225.7898  0.0000\n",
      "C(CL_X)           0.0203    1.0    16.8792  0.0000\n",
      "C(S)              0.2789    3.0    77.3577  0.0000\n",
      "C(CA)             0.4480    5.0    74.5748  0.0000\n",
      "C(Model)          0.6426    2.0   267.4185  0.0000\n",
      "C(CL_Y):C(CL_X)   0.0071    2.0     2.9527  0.0535\n",
      "C(CL_Y):C(S)      0.0269    6.0     3.7331  0.0013\n",
      "C(CL_Y):C(CA)     0.0318   10.0     2.6432  0.0040\n",
      "C(CL_Y):C(Model)  0.0186    4.0     3.8625  0.0044\n",
      "C(CL_X):C(S)      0.0437    3.0    12.1111  0.0000\n",
      "C(CL_X):C(CA)     0.0649    5.0    10.8057  0.0000\n",
      "C(CL_X):C(Model)  0.0034    2.0     1.4190  0.2433\n",
      "C(S):C(CA)        0.0382   15.0     2.1181  0.0088\n",
      "C(S):C(Model)     0.0135    6.0     1.8676  0.0855\n",
      "C(CA):C(Model)    0.0059   10.0     0.4869  0.8984\n",
      "Residual          0.4266  355.0        NaN     NaN\n"
     ]
    }
   ],
   "source": [
    "model = ols('Score ~ C(CL_Y) + C(CL_X) + C(S) + C(CA) + C(Model) + \\\n",
    "             C(CL_Y):C(CL_X) + C(CL_Y):C(S) + C(CL_Y):C(CA) + C(CL_Y):C(Model) + \\\n",
    "             C(CL_X):C(S) + C(CL_X):C(CA) + C(CL_X):C(Model) + \\\n",
    "             C(S):C(CA) + C(S):C(Model) + C(CA):C(Model)', data=table6_long).fit()\n",
    "\n",
    "# Perform ANOVA (Type II)\n",
    "anova_results = sm.stats.anova_lm(model, typ=2)\n",
    "\n",
    "# Print results\n",
    "print(anova_results.round(4))"
   ]
  },
  {
   "cell_type": "code",
   "execution_count": null,
   "id": "521d9b33-33b9-4916-b5b7-200aea121a4e",
   "metadata": {},
   "outputs": [],
   "source": []
  }
 ],
 "metadata": {
  "kernelspec": {
   "display_name": "Python (venv)",
   "language": "python",
   "name": "venv"
  },
  "language_info": {
   "codemirror_mode": {
    "name": "ipython",
    "version": 3
   },
   "file_extension": ".py",
   "mimetype": "text/x-python",
   "name": "python",
   "nbconvert_exporter": "python",
   "pygments_lexer": "ipython3",
   "version": "3.12.8"
  }
 },
 "nbformat": 4,
 "nbformat_minor": 5
}
