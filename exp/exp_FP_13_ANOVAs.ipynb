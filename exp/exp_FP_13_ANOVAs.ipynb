{
 "cells": [
  {
   "cell_type": "code",
   "execution_count": 16,
   "id": "0891b002-ccfc-4ea5-b80d-45720801582d",
   "metadata": {
    "execution": {
     "iopub.execute_input": "2025-01-30T08:00:39.279653Z",
     "iopub.status.busy": "2025-01-30T08:00:39.279653Z",
     "iopub.status.idle": "2025-01-30T08:00:39.283486Z",
     "shell.execute_reply": "2025-01-30T08:00:39.283486Z",
     "shell.execute_reply.started": "2025-01-30T08:00:39.279653Z"
    }
   },
   "outputs": [],
   "source": [
    "import pandas as pd\n",
    "import statsmodels.api as sm\n",
    "from statsmodels.formula.api import ols"
   ]
  },
  {
   "cell_type": "markdown",
   "id": "30ad42f0-1f31-409a-b889-4f51b996d2f4",
   "metadata": {},
   "source": [
    "### Continuous Independent Variables"
   ]
  },
  {
   "cell_type": "code",
   "execution_count": 17,
   "id": "04ff26fe-3124-449e-8d9d-9184612518b9",
   "metadata": {
    "execution": {
     "iopub.execute_input": "2025-01-30T08:00:39.836301Z",
     "iopub.status.busy": "2025-01-30T08:00:39.836301Z",
     "iopub.status.idle": "2025-01-30T08:00:39.852731Z",
     "shell.execute_reply": "2025-01-30T08:00:39.852731Z",
     "shell.execute_reply.started": "2025-01-30T08:00:39.836301Z"
    }
   },
   "outputs": [],
   "source": [
    "# load data and convert to categorical variables\n",
    "table3 = pd.read_csv('../dat/table3.csv')\n",
    "table3['S'] = table3['Sample_Size'].astype('category')\n",
    "table3['CL_Y'] = table3['Classes_Dep_Var'].astype('category')\n",
    "table3['V'] = table3['Num_Ind_Vars'].astype('category')\n",
    "\n",
    "# Reshape data into long format\n",
    "table3_long = table3.melt(id_vars=['CL_Y', 'V', 'S'], \n",
    "                          value_vars=['ANN', 'DT', 'LR'], \n",
    "                          var_name='Model', \n",
    "                          value_name='Score')\n",
    "\n",
    "# Convert Model into categorical\n",
    "table3_long['Model'] = table3_long['Model'].astype('category')"
   ]
  },
  {
   "cell_type": "code",
   "execution_count": 18,
   "id": "65d29332-7d91-457e-9824-ce96f9c6fdbc",
   "metadata": {
    "execution": {
     "iopub.execute_input": "2025-01-30T08:00:40.245428Z",
     "iopub.status.busy": "2025-01-30T08:00:40.245428Z",
     "iopub.status.idle": "2025-01-30T08:00:40.282000Z",
     "shell.execute_reply": "2025-01-30T08:00:40.282000Z",
     "shell.execute_reply.started": "2025-01-30T08:00:40.245428Z"
    }
   },
   "outputs": [
    {
     "name": "stdout",
     "output_type": "stream",
     "text": [
      "                  sum_sq    df         F  PR(>F)\n",
      "C(CL_Y)           1.3895   2.0  707.2997  0.0000\n",
      "C(V)              0.0246   2.0   12.5360  0.0000\n",
      "C(S)              0.0150   3.0    5.0789  0.0031\n",
      "C(Model)          0.1052   2.0   53.5352  0.0000\n",
      "C(CL_Y):C(V)      0.0023   4.0    0.5945  0.6678\n",
      "C(CL_Y):C(S)      0.0385   6.0    6.5339  0.0000\n",
      "C(CL_Y):C(Model)  0.0036   4.0    0.9088  0.4639\n",
      "C(V):C(S)         0.0706   6.0   11.9852  0.0000\n",
      "C(V):C(Model)     0.0009   4.0    0.2229  0.9247\n",
      "C(S):C(Model)     0.0102   6.0    1.7384  0.1254\n",
      "Residual          0.0668  68.0       NaN     NaN\n"
     ]
    }
   ],
   "source": [
    "# Fit the ANOVA model with only main effects and two-way interactions\n",
    "model = ols('Score ~ C(CL_Y) + C(V) + C(S) + C(Model) + \\\n",
    "             C(CL_Y):C(V) + C(CL_Y):C(S) + C(CL_Y):C(Model) + \\\n",
    "             C(V):C(S) + C(V):C(Model) + C(S):C(Model)', data=table3_long).fit()\n",
    "\n",
    "# Perform ANOVA (Type II)\n",
    "anova_results = sm.stats.anova_lm(model, typ=2)\n",
    "\n",
    "# Print results\n",
    "print(anova_results.round(4))"
   ]
  },
  {
   "cell_type": "markdown",
   "id": "470ae8c3-b729-480f-9461-fca08ec09bf5",
   "metadata": {},
   "source": [
    "### Categorical Independent Variables (V=3)"
   ]
  },
  {
   "cell_type": "code",
   "execution_count": 20,
   "id": "6b3be2d8-bbc7-41fd-86a8-d09121ed672e",
   "metadata": {
    "execution": {
     "iopub.execute_input": "2025-01-30T13:00:34.033071Z",
     "iopub.status.busy": "2025-01-30T13:00:34.032072Z",
     "iopub.status.idle": "2025-01-30T13:00:34.049032Z",
     "shell.execute_reply": "2025-01-30T13:00:34.049032Z",
     "shell.execute_reply.started": "2025-01-30T13:00:34.033071Z"
    }
   },
   "outputs": [],
   "source": [
    "# load data and convert to categorical variables\n",
    "table4 = pd.read_csv('../dat/table4.csv')\n",
    "table4['S'] = table4['Sample_Size'].astype('category')\n",
    "table4['CL_Y'] = table4['Classes_Dep_Var'].astype('category')\n",
    "table4['CA'] = table4['Num_Categorical_Vars'].astype('category')\n",
    "table4['CL_X'] = table4['Classes_Ind_Vars'].astype('category')\n",
    "\n",
    "# Reshape data into long format\n",
    "table4_long = table4.melt(id_vars=['CL_Y', 'CL_X', 'S', 'CA'], \n",
    "                          value_vars=['ANN', 'DT', 'LR'], \n",
    "                          var_name='Model', \n",
    "                          value_name='Score')\n",
    "\n",
    "# Convert Model into categorical\n",
    "table4_long['Model'] = table4_long['Model'].astype('category')"
   ]
  },
  {
   "cell_type": "code",
   "execution_count": 21,
   "id": "9fea2ef7-150f-4bca-a2ec-4579c9bb55eb",
   "metadata": {
    "execution": {
     "iopub.execute_input": "2025-01-30T13:02:41.428714Z",
     "iopub.status.busy": "2025-01-30T13:02:41.427715Z",
     "iopub.status.idle": "2025-01-30T13:02:41.487014Z",
     "shell.execute_reply": "2025-01-30T13:02:41.487014Z",
     "shell.execute_reply.started": "2025-01-30T13:02:41.428714Z"
    }
   },
   "outputs": [
    {
     "name": "stdout",
     "output_type": "stream",
     "text": [
      "                  sum_sq     df         F  PR(>F)\n",
      "C(CL_Y)           1.2611    2.0  490.1805  0.0000\n",
      "C(CL_X)           0.0646    1.0   50.1851  0.0000\n",
      "C(S)              0.0089    3.0    2.3119  0.0805\n",
      "C(CA)             0.0574    1.0   44.6413  0.0000\n",
      "C(Model)          0.0413    2.0   16.0685  0.0000\n",
      "C(CL_Y):C(CL_X)   0.0001    2.0    0.0242  0.9761\n",
      "C(CL_Y):C(S)      0.0444    6.0    5.7508  0.0000\n",
      "C(CL_Y):C(CA)     0.0144    2.0    5.5843  0.0050\n",
      "C(CL_Y):C(Model)  0.0089    4.0    1.7365  0.1476\n",
      "C(CL_X):C(S)      0.0082    3.0    2.1336  0.1005\n",
      "C(CL_X):C(CA)     0.0001    1.0    0.1073  0.7439\n",
      "C(CL_X):C(Model)  0.0025    2.0    0.9589  0.3867\n",
      "C(S):C(CA)        0.0114    3.0    2.9506  0.0362\n",
      "C(S):C(Model)     0.0080    6.0    1.0414  0.4031\n",
      "C(CA):C(Model)    0.0013    2.0    0.4915  0.6132\n",
      "Residual          0.1325  103.0       NaN     NaN\n"
     ]
    }
   ],
   "source": [
    "model = ols('Score ~ C(CL_Y) + C(CL_X) + C(S) + C(CA) + C(Model) + \\\n",
    "             C(CL_Y):C(CL_X) + C(CL_Y):C(S) + C(CL_Y):C(CA) + C(CL_Y):C(Model) + \\\n",
    "             C(CL_X):C(S) + C(CL_X):C(CA) + C(CL_X):C(Model) + \\\n",
    "             C(S):C(CA) + C(S):C(Model) + C(CA):C(Model)', data=table4_long).fit()\n",
    "\n",
    "# Perform ANOVA (Type II)\n",
    "anova_results = sm.stats.anova_lm(model, typ=2)\n",
    "\n",
    "# Print results\n",
    "print(anova_results.round(4))"
   ]
  },
  {
   "cell_type": "code",
   "execution_count": null,
   "id": "521d9b33-33b9-4916-b5b7-200aea121a4e",
   "metadata": {},
   "outputs": [],
   "source": []
  }
 ],
 "metadata": {
  "kernelspec": {
   "display_name": "Python (venv)",
   "language": "python",
   "name": "venv"
  },
  "language_info": {
   "codemirror_mode": {
    "name": "ipython",
    "version": 3
   },
   "file_extension": ".py",
   "mimetype": "text/x-python",
   "name": "python",
   "nbconvert_exporter": "python",
   "pygments_lexer": "ipython3",
   "version": "3.12.8"
  }
 },
 "nbformat": 4,
 "nbformat_minor": 5
}
