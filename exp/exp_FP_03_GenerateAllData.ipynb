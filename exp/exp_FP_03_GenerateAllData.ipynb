{
 "cells": [
  {
   "cell_type": "code",
   "execution_count": 1,
   "id": "5d742d9c-d75e-404b-bdd9-abbd6a63cd32",
   "metadata": {
    "execution": {
     "iopub.execute_input": "2024-12-10T11:12:55.350798Z",
     "iopub.status.busy": "2024-12-10T11:12:55.349859Z",
     "iopub.status.idle": "2024-12-10T11:12:56.613417Z",
     "shell.execute_reply": "2024-12-10T11:12:56.612318Z",
     "shell.execute_reply.started": "2024-12-10T11:12:55.350754Z"
    }
   },
   "outputs": [],
   "source": [
    "import numpy as np\n",
    "import pandas as pd\n",
    "from itertools import product"
   ]
  },
  {
   "cell_type": "code",
   "execution_count": 2,
   "id": "4fdfbf76-a616-4e25-a5f3-ef5a4b5c2193",
   "metadata": {
    "execution": {
     "iopub.execute_input": "2024-12-10T11:12:56.666860Z",
     "iopub.status.busy": "2024-12-10T11:12:56.616173Z",
     "iopub.status.idle": "2024-12-10T11:12:56.689158Z",
     "shell.execute_reply": "2024-12-10T11:12:56.687019Z",
     "shell.execute_reply.started": "2024-12-10T11:12:56.666452Z"
    }
   },
   "outputs": [],
   "source": [
    "# what varies for all data sets\n",
    "# n_classes_dep_var = \n",
    "# n_ind_vars =\n",
    "# n_classes_ind_vars = \n",
    "# n_samples = \n",
    "\n",
    "def generate_data(n_classes_dep_var, n_ind_vars, n_categorical_vars, n_classes_ind_vars, n_samples):\n",
    "    \n",
    "    # set coefficients for the model\n",
    "    coef = [3, 2, 2, 1, 1, 0.5, 0.5]\n",
    "    coef = coef[:n_ind_vars]\n",
    "\n",
    "    # generate n x p array for independent variables (predictors)\n",
    "    X = np.random.uniform(0, 1, (n_samples, n_ind_vars))\n",
    "\n",
    "    # convert independent continuous variables into categorical ones\n",
    "    if n_categorical_vars == 0:\n",
    "        pass\n",
    "    elif n_categorical_vars >= n_ind_vars:\n",
    "        return None\n",
    "    else:\n",
    "        for i in range(1, n_categorical_vars + 1):\n",
    "            if n_classes_ind_vars == 2:\n",
    "                X[:, -i] = np.where(X[:, -i] < np.quantile(X[:, -i], 0.5), 0, 1)  # 0 and 1 for binary\n",
    "            elif n_classes_ind_vars == 3:\n",
    "                X[:, -i] = np.where(X[:, -i] < np.quantile(X[:, -i], 0.25), 0,\n",
    "                                    np.where(X[:, -i] > np.quantile(X[:, -i], 0.75), 2, 1))  # 0, 1, 2 for ternary\n",
    "            \n",
    "        \n",
    "\n",
    "    # generate error term\n",
    "    e = np.random.normal(0, 1, n_samples)\n",
    "\n",
    "    # calculate y continuous\n",
    "    y_continuous = 1 + np.dot(X, coef) + e\n",
    "\n",
    "    # convert y to categorical\n",
    "    # keep working from here\n",
    "    if n_classes_dep_var == 2:\n",
    "        y_categorical = np.where(y_continuous < np.quantile(y_continuous, 0.5), 'A', 'B')\n",
    "    elif n_classes_dep_var == 3: \n",
    "        y_categorical = np.where(y_continuous < np.quantile(y_continuous, 0.25), 'A',\n",
    "                                 np.where(y_continuous > np.quantile(y_continuous, 0.75), 'B', 'C'))\n",
    "    elif n_classes_dep_var == 4: \n",
    "        y_categorical = np.where(y_continuous < np.quantile(y_continuous, 0.25), 'A',\n",
    "                                 np.where(y_continuous < np.quantile(y_continuous, 0.5), 'B',\n",
    "                                 np.where(y_continuous < np.quantile(y_continuous, 0.75), 'C', 'D')))\n",
    "\n",
    "    # create data that is to be returned\n",
    "    data_mat = np.concatenate((X, y_continuous.reshape(-1, 1), y_categorical.reshape(-1, 1)), axis = 1)\n",
    "    data = pd.DataFrame(data_mat)\n",
    "    # Rename columns to X1, X2, ..., y_cont, y_cat\n",
    "    data.columns = [f'X{i+1}' for i in range(n_ind_vars)] + ['y_cont', 'y_cat']\n",
    "\n",
    "    return(data)\n"
   ]
  },
  {
   "cell_type": "code",
   "execution_count": 20,
   "id": "95217822-7f85-40d4-b37c-24d01a5db2b3",
   "metadata": {
    "execution": {
     "iopub.execute_input": "2024-12-10T11:59:47.239363Z",
     "iopub.status.busy": "2024-12-10T11:59:47.238344Z",
     "iopub.status.idle": "2024-12-10T11:59:47.254149Z",
     "shell.execute_reply": "2024-12-10T11:59:47.252422Z",
     "shell.execute_reply.started": "2024-12-10T11:59:47.239317Z"
    }
   },
   "outputs": [
    {
     "name": "stdout",
     "output_type": "stream",
     "text": [
      "                      X1                   X2   X3   X4   X5  \\\n",
      "0   0.058641928719343484   0.9196403272887104  2.0  2.0  0.0   \n",
      "1     0.6524890599671698   0.9156442084771608  2.0  2.0  2.0   \n",
      "2     0.2636551831533047   0.6793030587858463  1.0  1.0  2.0   \n",
      "3     0.3297686616023088  0.14619070310196614  2.0  1.0  2.0   \n",
      "4    0.11636701798224547    0.586482747068296  1.0  1.0  1.0   \n",
      "..                   ...                  ...  ...  ...  ...   \n",
      "95   0.38951128544115077   0.7779703736085523  1.0  1.0  0.0   \n",
      "96  0.010464055804651817   0.2759139379361064  1.0  0.0  1.0   \n",
      "97   0.38506315507779876   0.7072142507924651  1.0  1.0  1.0   \n",
      "98   0.25241491204717015   0.5383536147146825  1.0  1.0  2.0   \n",
      "99    0.5998020603443885  0.13554692949489422  1.0  0.0  0.0   \n",
      "\n",
      "                y_cont y_cat  \n",
      "0    7.273206848971284     C  \n",
      "1   13.103551206945495     B  \n",
      "2    8.980446985541311     B  \n",
      "3    7.195663564366999     C  \n",
      "4    6.644832013984108     C  \n",
      "..                 ...   ...  \n",
      "95   7.455868112027083     C  \n",
      "96   6.460737304231152     C  \n",
      "97   8.084666110398777     C  \n",
      "98   8.147169002206667     C  \n",
      "99  6.6568497934595365     C  \n",
      "\n",
      "[100 rows x 7 columns]\n"
     ]
    }
   ],
   "source": [
    "# try an example\n",
    "data = generate_data(3, 5, 3, 3, 100)\n",
    "print(data)"
   ]
  },
  {
   "cell_type": "code",
   "execution_count": 7,
   "id": "49b793d6-141d-4a01-a339-4eec504c16c0",
   "metadata": {
    "execution": {
     "iopub.execute_input": "2024-12-10T11:13:29.942837Z",
     "iopub.status.busy": "2024-12-10T11:13:29.942188Z",
     "iopub.status.idle": "2024-12-10T11:13:29.950993Z",
     "shell.execute_reply": "2024-12-10T11:13:29.949785Z",
     "shell.execute_reply.started": "2024-12-10T11:13:29.942765Z"
    }
   },
   "outputs": [],
   "source": [
    "n_classes_dep_var = [2, 3, 4]\n",
    "n_ind_vars = [3, 5, 7]\n",
    "n_categorical_vars = np.arange(7)\n",
    "n_classes_ind_vars = [2, 3]\n",
    "n_samples = [100, 500, 1000, 10000]"
   ]
  },
  {
   "cell_type": "code",
   "execution_count": 19,
   "id": "890e5524-e33d-46b8-8d14-3713ce82ea3d",
   "metadata": {
    "execution": {
     "iopub.execute_input": "2024-12-10T11:56:42.587198Z",
     "iopub.status.busy": "2024-12-10T11:56:42.586423Z",
     "iopub.status.idle": "2024-12-10T11:56:55.333543Z",
     "shell.execute_reply": "2024-12-10T11:56:55.332516Z",
     "shell.execute_reply.started": "2024-12-10T11:56:42.587143Z"
    }
   },
   "outputs": [],
   "source": [
    "# Generate and save datasets\n",
    "np.random.seed(3103)\n",
    "for n_classes_dep, n_ind, n_categorical, n_classes_ind, n_samp in product(n_classes_dep_var, n_ind_vars, n_categorical_vars, n_classes_ind_vars, n_samples):\n",
    "    data = generate_data(n_classes_dep, n_ind, n_categorical, n_classes_ind, n_samp)\n",
    "    if data is not None:  # Avoid saving if no data is generated\n",
    "        if n_categorical == 0:   # Avoid saving twice if all X are continuous\n",
    "            filename = f'../dat/{n_categorical}_0_{n_ind}_{n_classes_dep}_{n_samp}_samples.csv'\n",
    "            data.to_csv(filename, index=False)\n",
    "        else:\n",
    "            filename = f'../dat/{n_categorical}_{n_classes_ind}_{n_ind}_{n_classes_dep}_{n_samp}_samples.csv'\n",
    "            data.to_csv(filename, index=False)"
   ]
  }
 ],
 "metadata": {
  "kernelspec": {
   "display_name": "Python (venv)",
   "language": "python",
   "name": "venv"
  },
  "language_info": {
   "codemirror_mode": {
    "name": "ipython",
    "version": 3
   },
   "file_extension": ".py",
   "mimetype": "text/x-python",
   "name": "python",
   "nbconvert_exporter": "python",
   "pygments_lexer": "ipython3",
   "version": "3.10.15"
  }
 },
 "nbformat": 4,
 "nbformat_minor": 5
}
