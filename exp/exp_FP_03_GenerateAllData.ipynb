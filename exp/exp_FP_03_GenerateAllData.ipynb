{
 "cells": [
  {
   "cell_type": "code",
   "execution_count": 2,
   "id": "5d742d9c-d75e-404b-bdd9-abbd6a63cd32",
   "metadata": {
    "execution": {
     "iopub.execute_input": "2024-12-05T19:22:42.140147Z",
     "iopub.status.busy": "2024-12-05T19:22:42.139594Z",
     "iopub.status.idle": "2024-12-05T19:22:42.143865Z",
     "shell.execute_reply": "2024-12-05T19:22:42.143159Z",
     "shell.execute_reply.started": "2024-12-05T19:22:42.140121Z"
    }
   },
   "outputs": [],
   "source": [
    "import numpy as np\n",
    "import pandas as pd"
   ]
  },
  {
   "cell_type": "code",
   "execution_count": 3,
   "id": "26c1315a-6226-4ef7-b362-cd265a4f1b87",
   "metadata": {
    "execution": {
     "iopub.execute_input": "2024-12-05T19:22:42.764491Z",
     "iopub.status.busy": "2024-12-05T19:22:42.764008Z",
     "iopub.status.idle": "2024-12-05T19:22:42.778076Z",
     "shell.execute_reply": "2024-12-05T19:22:42.777399Z",
     "shell.execute_reply.started": "2024-12-05T19:22:42.764468Z"
    }
   },
   "outputs": [
    {
     "name": "stdout",
     "output_type": "stream",
     "text": [
      "          x1        x2        x3  y_continuous y_categorical\n",
      "0   0.533520  0.543085  0.893984      4.546080             B\n",
      "1   0.714119  0.743904  0.119002      4.203377             B\n",
      "2   0.325493  0.789206  0.554399      2.928728             B\n",
      "3   0.228712  0.381822  0.694399      2.786589             B\n",
      "4   0.987541  0.550945  0.004898      5.185072             A\n",
      "..       ...       ...       ...           ...           ...\n",
      "95  0.624695  0.995311  0.529423      6.024195             A\n",
      "96  0.706491  0.619494  0.975037      7.685146             A\n",
      "97  0.922969  0.242019  0.402067      5.851546             A\n",
      "98  0.156821  0.624326  0.224659      2.837609             B\n",
      "99  0.875626  0.826088  0.681208      4.597759             B\n",
      "\n",
      "[100 rows x 5 columns]\n"
     ]
    }
   ],
   "source": [
    "# Set the seed\n",
    "np.random.seed(3103)\n",
    "\n",
    "# Parameters\n",
    "n_samples = 100  # Number of samples\n",
    "coef_x1, coef_x2, coef_x3 = 3, 2, 2  # Coefficients for x1, x2, x3\n",
    "intercept = 1  # Intercept\n",
    "std_error = 1  # Standard deviation for error term\n",
    "\n",
    "# Generate random predictors\n",
    "x1 = np.random.uniform(0, 1, n_samples)\n",
    "x2 = np.random.uniform(0, 1, n_samples)\n",
    "x3 = np.random.uniform(0, 1, n_samples)\n",
    "\n",
    "# Generate error term\n",
    "e = np.random.normal(0, std_error, n_samples)\n",
    "\n",
    "# Calculate y (continuous)\n",
    "y_continuous = intercept + coef_x1 * x1 + coef_x2 * x2 + coef_x3 * x3 + e\n",
    "\n",
    "# Convert y to categorical\n",
    "y_categorical = np.where(y_continuous > np.median(y_continuous), 'A', 'B')\n",
    "\n",
    "# Combine into a DataFrame for convenience\n",
    "data = pd.DataFrame({\n",
    "    'x1': x1,\n",
    "    'x2': x2,\n",
    "    'x3': x3,\n",
    "    'y_continuous': y_continuous,\n",
    "    'y_categorical': y_categorical\n",
    "})\n",
    "\n",
    "print(data)"
   ]
  },
  {
   "cell_type": "code",
   "execution_count": 4,
   "id": "4fdfbf76-a616-4e25-a5f3-ef5a4b5c2193",
   "metadata": {
    "execution": {
     "iopub.execute_input": "2024-12-05T19:22:44.148628Z",
     "iopub.status.busy": "2024-12-05T19:22:44.148159Z",
     "iopub.status.idle": "2024-12-05T19:22:44.154542Z",
     "shell.execute_reply": "2024-12-05T19:22:44.153800Z",
     "shell.execute_reply.started": "2024-12-05T19:22:44.148605Z"
    }
   },
   "outputs": [],
   "source": [
    "# what varies for all data sets\n",
    "# n_classes_dep_var = \n",
    "# n_ind_vars =\n",
    "# n_classes_ind_vars = \n",
    "# n_samples = \n",
    "\n",
    "def generate_data(n_classes_dep_var, n_ind_vars, n_classes_ind_vars, n_samples):\n",
    "    # set coefficients for the model\n",
    "    coef = [3, 2, 2, 1, 1, 0.5, 0.5]\n",
    "    coef = coef[:n_ind_vars]\n",
    "\n",
    "    # generate n x p array for independent variables (predictors)\n",
    "    X = np.random.uniform(0, 1, (n_samples, n_ind_vars))\n",
    "\n",
    "    # generate error term\n",
    "    e = np.random.normal(0, 1, n_samples)\n",
    "\n",
    "    # calculate y continuous\n",
    "    y_continuous = 1 + np.dot(X, coef) + e\n",
    "\n",
    "    # convert y to categorical\n",
    "    # keep working from here\n",
    "    # if n_classes_dep_var == 2\n",
    "    y_categorical = np.where(y_continuous > np.median(y_continuous), 'A', 'B')\n",
    "    # else n_classes_dep_var == 3\n",
    "    y_categorical = np.where(y_continuous > np.median(y_continuous), 'A', 'B')\n",
    "    # else n_classes_dep_var == 4\n",
    "    y_categorical = np.where(y_continuous > np.median(y_continuous), 'A', 'B')\n"
   ]
  },
  {
   "cell_type": "code",
   "execution_count": null,
   "id": "335ce9fd-8694-42cf-8841-9258b7cb294b",
   "metadata": {},
   "outputs": [],
   "source": []
  }
 ],
 "metadata": {
  "kernelspec": {
   "display_name": "Python (venv)",
   "language": "python",
   "name": "venv"
  },
  "language_info": {
   "codemirror_mode": {
    "name": "ipython",
    "version": 3
   },
   "file_extension": ".py",
   "mimetype": "text/x-python",
   "name": "python",
   "nbconvert_exporter": "python",
   "pygments_lexer": "ipython3",
   "version": "3.13.0"
  }
 },
 "nbformat": 4,
 "nbformat_minor": 5
}
