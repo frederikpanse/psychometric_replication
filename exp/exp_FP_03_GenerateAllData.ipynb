{
 "cells": [
  {
   "cell_type": "code",
   "execution_count": 1,
   "id": "5d742d9c-d75e-404b-bdd9-abbd6a63cd32",
   "metadata": {
    "execution": {
     "iopub.execute_input": "2024-12-06T11:43:03.453332Z",
     "iopub.status.busy": "2024-12-06T11:43:03.452667Z",
     "iopub.status.idle": "2024-12-06T11:43:05.125572Z",
     "shell.execute_reply": "2024-12-06T11:43:05.123854Z",
     "shell.execute_reply.started": "2024-12-06T11:43:03.453272Z"
    }
   },
   "outputs": [],
   "source": [
    "import numpy as np\n",
    "import pandas as pd"
   ]
  },
  {
   "cell_type": "code",
   "execution_count": 42,
   "id": "4fdfbf76-a616-4e25-a5f3-ef5a4b5c2193",
   "metadata": {
    "execution": {
     "iopub.execute_input": "2024-12-06T13:19:41.453729Z",
     "iopub.status.busy": "2024-12-06T13:19:41.453150Z",
     "iopub.status.idle": "2024-12-06T13:19:41.467017Z",
     "shell.execute_reply": "2024-12-06T13:19:41.465380Z",
     "shell.execute_reply.started": "2024-12-06T13:19:41.453681Z"
    }
   },
   "outputs": [],
   "source": [
    "# what varies for all data sets\n",
    "# n_classes_dep_var = \n",
    "# n_ind_vars =\n",
    "# n_classes_ind_vars = \n",
    "# n_samples = \n",
    "\n",
    "def generate_data(n_classes_dep_var, n_ind_vars, n_classes_ind_vars, n_samples):\n",
    "    # set coefficients for the model\n",
    "    coef = [3, 2, 2, 1, 1, 0.5, 0.5]\n",
    "    coef = coef[:n_ind_vars]\n",
    "\n",
    "    # generate n x p array for independent variables (predictors)\n",
    "    X = np.random.uniform(0, 1, (n_samples, n_ind_vars))\n",
    "\n",
    "    # generate error term\n",
    "    e = np.random.normal(0, 1, n_samples)\n",
    "\n",
    "    # calculate y continuous\n",
    "    y_continuous = 1 + np.dot(X, coef) + e\n",
    "\n",
    "    # convert y to categorical\n",
    "    # keep working from here\n",
    "    if n_classes_dep_var == 2:\n",
    "        y_categorical = np.where(y_continuous < np.quantile(y_continuous, 0.5), 'A', 'B')\n",
    "    elif n_classes_dep_var == 3: \n",
    "        y_categorical = np.where(y_continuous < np.quantile(y_continuous, 0.25), 'A',\n",
    "                                 np.where(y_continuous > np.quantile(y_continuous, 0.75), 'B', 'C'))\n",
    "    elif n_classes_dep_var == 4: \n",
    "        y_categorical = np.where(y_continuous < np.quantile(y_continuous, 0.25), 'A',\n",
    "                                 np.where(y_continuous < np.quantile(y_continuous, 0.5), 'B',\n",
    "                                 np.where(y_continuous < np.quantile(y_continuous, 0.75), 'C', 'D')))\n",
    "\n",
    "    # create data that is to be returned\n",
    "    data_mat = np.concatenate((X, y_continuous.reshape(-1, 1), y_categorical.reshape(-1, 1)), axis = 1)\n",
    "    data = pd.DataFrame(data_mat)\n",
    "    # Rename columns to X1, X2, ..., y_cont, y_cat\n",
    "    data.columns = [f'X{i+1}' for i in range(n_ind_vars)] + ['y_cont', 'y_cat']\n",
    "\n",
    "    return(data)\n"
   ]
  },
  {
   "cell_type": "code",
   "execution_count": 45,
   "id": "95217822-7f85-40d4-b37c-24d01a5db2b3",
   "metadata": {
    "execution": {
     "iopub.execute_input": "2024-12-06T13:23:28.517151Z",
     "iopub.status.busy": "2024-12-06T13:23:28.516647Z",
     "iopub.status.idle": "2024-12-06T13:23:28.536097Z",
     "shell.execute_reply": "2024-12-06T13:23:28.533575Z",
     "shell.execute_reply.started": "2024-12-06T13:23:28.517112Z"
    }
   },
   "outputs": [
    {
     "name": "stdout",
     "output_type": "stream",
     "text": [
      "                      X1                    X2                   X3  \\\n",
      "0     0.6097575376323399    0.1366676735733674     0.27769334835796   \n",
      "1     0.7097821276393518   0.42028843946248995   0.8534541142288248   \n",
      "2    0.38283296654785737    0.4160712826323727   0.8292501535664057   \n",
      "3     0.8584884969875207  0.016664167727705625   0.4236195202029406   \n",
      "4     0.8830551513128453    0.9603940496433176   0.9873229496526055   \n",
      "..                   ...                   ...                  ...   \n",
      "95   0.17066729191997532    0.9514424247754523   0.8460539931211577   \n",
      "96    0.6988890783937166    0.5229790372784356   0.9539022529358347   \n",
      "97    0.9151932996142751   0.20379293614385396   0.6554233836109451   \n",
      "98    0.6438532281249792     0.429229820069955   0.6957638335564319   \n",
      "99  0.006090407878816206     0.686294981391211  0.21141632161036072   \n",
      "\n",
      "                y_cont y_cat  \n",
      "0    4.361676330669561     C  \n",
      "1    4.909414881829212     C  \n",
      "2   2.4450966805033643     A  \n",
      "3   3.6696598443176347     A  \n",
      "4    8.955731899042878     B  \n",
      "..                 ...   ...  \n",
      "95   3.607156736846702     A  \n",
      "96   5.862816781473193     B  \n",
      "97   8.152928313025512     B  \n",
      "98   6.001313310344939     B  \n",
      "99   2.930261998484004     A  \n",
      "\n",
      "[100 rows x 5 columns]\n"
     ]
    }
   ],
   "source": [
    "# try an example\n",
    "data = generate_data(3, 3, 0, 100)\n",
    "print(data)"
   ]
  }
 ],
 "metadata": {
  "kernelspec": {
   "display_name": "Python (venv)",
   "language": "python",
   "name": "venv"
  },
  "language_info": {
   "codemirror_mode": {
    "name": "ipython",
    "version": 3
   },
   "file_extension": ".py",
   "mimetype": "text/x-python",
   "name": "python",
   "nbconvert_exporter": "python",
   "pygments_lexer": "ipython3",
   "version": "3.10.15"
  }
 },
 "nbformat": 4,
 "nbformat_minor": 5
}
