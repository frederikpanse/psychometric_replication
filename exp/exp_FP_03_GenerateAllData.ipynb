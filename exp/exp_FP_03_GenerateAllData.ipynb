{
 "cells": [
  {
   "cell_type": "code",
   "execution_count": 1,
   "id": "5d742d9c-d75e-404b-bdd9-abbd6a63cd32",
   "metadata": {
    "execution": {
     "iopub.execute_input": "2024-12-13T10:36:10.969917Z",
     "iopub.status.busy": "2024-12-13T10:36:10.969379Z",
     "iopub.status.idle": "2024-12-13T10:36:11.418940Z",
     "shell.execute_reply": "2024-12-13T10:36:11.418284Z",
     "shell.execute_reply.started": "2024-12-13T10:36:10.969888Z"
    }
   },
   "outputs": [],
   "source": [
    "import numpy as np\n",
    "import pandas as pd\n",
    "from itertools import product"
   ]
  },
  {
   "cell_type": "code",
   "execution_count": 19,
   "id": "4fdfbf76-a616-4e25-a5f3-ef5a4b5c2193",
   "metadata": {
    "execution": {
     "iopub.execute_input": "2024-12-13T11:50:37.435982Z",
     "iopub.status.busy": "2024-12-13T11:50:37.435553Z",
     "iopub.status.idle": "2024-12-13T11:50:37.444628Z",
     "shell.execute_reply": "2024-12-13T11:50:37.443983Z",
     "shell.execute_reply.started": "2024-12-13T11:50:37.435959Z"
    }
   },
   "outputs": [],
   "source": [
    "# what varies for all data sets\n",
    "# n_classes_dep_var = \n",
    "# n_ind_vars =\n",
    "# n_classes_ind_vars = \n",
    "# n_samples = \n",
    "\n",
    "def generate_data(n_classes_dep_var, n_ind_vars, n_categorical_vars, n_classes_ind_vars, n_samples):\n",
    "    \n",
    "    # set coefficients for the model\n",
    "    coef = [3, 2, 2, 1, 1, 0.5, 0.5]\n",
    "    coef = coef[:n_ind_vars]\n",
    "\n",
    "    # generate n x p array for independent variables (predictors)\n",
    "    X = np.random.uniform(0, 1, (n_samples, n_ind_vars))\n",
    "\n",
    "    # convert independent continuous variables into categorical ones\n",
    "    if n_categorical_vars == 0:\n",
    "        if n_classes_ind_vars != 2:  # if no categorical vars, then do not vary number of classes\n",
    "            return None\n",
    "    elif n_categorical_vars >= n_ind_vars:\n",
    "        return None\n",
    "    else:\n",
    "        for i in range(1, n_categorical_vars + 1):\n",
    "            if n_classes_ind_vars == 2:\n",
    "                X[:, -i] = np.where(X[:, -i] < np.quantile(X[:, -i], 0.5), 0, 1)  # 0 and 1 for binary\n",
    "            elif n_classes_ind_vars == 3:\n",
    "                X[:, -i] = np.where(X[:, -i] < np.quantile(X[:, -i], 0.25), 0,\n",
    "                                    np.where(X[:, -i] > np.quantile(X[:, -i], 0.75), 2, 1))  # 0, 1, 2 for ternary\n",
    "            \n",
    "        \n",
    "\n",
    "    # generate error term\n",
    "    e = np.random.normal(0, 1, n_samples)\n",
    "\n",
    "    # calculate y continuous\n",
    "    y_continuous = 1 + np.dot(X, coef) + e\n",
    "\n",
    "    # convert y to categorical\n",
    "    # keep working from here\n",
    "    if n_classes_dep_var == 2:\n",
    "        y_categorical = np.where(y_continuous < np.quantile(y_continuous, 0.5), 'A', 'B')\n",
    "    elif n_classes_dep_var == 3: \n",
    "        y_categorical = np.where(y_continuous < np.quantile(y_continuous, 0.25), 'A',\n",
    "                                 np.where(y_continuous > np.quantile(y_continuous, 0.75), 'B', 'C'))\n",
    "    elif n_classes_dep_var == 4: \n",
    "        y_categorical = np.where(y_continuous < np.quantile(y_continuous, 0.25), 'A',\n",
    "                                 np.where(y_continuous < np.quantile(y_continuous, 0.5), 'B',\n",
    "                                 np.where(y_continuous < np.quantile(y_continuous, 0.75), 'C', 'D')))\n",
    "\n",
    "    # create data that is to be returned\n",
    "    data_mat = np.concatenate((X, y_continuous.reshape(-1, 1), y_categorical.reshape(-1, 1)), axis = 1)\n",
    "    data = pd.DataFrame(data_mat)\n",
    "    # Rename columns to X1, X2, ..., y_cont, y_cat\n",
    "    data.columns = [f'X{i+1}' for i in range(n_ind_vars)] + ['y_cont', 'y_cat']\n",
    "\n",
    "    return(data)\n"
   ]
  },
  {
   "cell_type": "code",
   "execution_count": 20,
   "id": "95217822-7f85-40d4-b37c-24d01a5db2b3",
   "metadata": {
    "execution": {
     "iopub.execute_input": "2024-12-13T11:50:38.600068Z",
     "iopub.status.busy": "2024-12-13T11:50:38.599661Z",
     "iopub.status.idle": "2024-12-13T11:50:38.611204Z",
     "shell.execute_reply": "2024-12-13T11:50:38.610337Z",
     "shell.execute_reply.started": "2024-12-13T11:50:38.600046Z"
    }
   },
   "outputs": [
    {
     "name": "stdout",
     "output_type": "stream",
     "text": [
      "                     X1                   X2   X3   X4   X5  \\\n",
      "0    0.6309214722829094  0.49894097240459256  1.0  0.0  2.0   \n",
      "1   0.31843947712348386   0.9046706877738242  2.0  1.0  1.0   \n",
      "2    0.1773337304573872    0.904201397671809  0.0  1.0  0.0   \n",
      "3    0.9879366514075734   0.8194854856034515  1.0  0.0  0.0   \n",
      "4    0.5372184567188039  0.11232149288947157  0.0  0.0  1.0   \n",
      "..                  ...                  ...  ...  ...  ...   \n",
      "95  0.15356094474441684   0.0945403659210885  1.0  2.0  2.0   \n",
      "96   0.9539849436557588    0.895959068246184  0.0  1.0  0.0   \n",
      "97  0.46146519001800745   0.7080906663523728  1.0  1.0  1.0   \n",
      "98   0.6363784003459685  0.49879742647749004  1.0  1.0  1.0   \n",
      "99   0.6677828305585315   0.7025499570091578  1.0  2.0  1.0   \n",
      "\n",
      "                y_cont y_cat  \n",
      "0    7.914467979519795     C  \n",
      "1   11.359659027741415     B  \n",
      "2   3.2966123001759406     A  \n",
      "3    8.259571889324544     C  \n",
      "4   3.8307312619999205     A  \n",
      "..                 ...   ...  \n",
      "95   8.210556446675575     C  \n",
      "96   6.917936152708262     C  \n",
      "97   7.569070680410521     C  \n",
      "98   8.927479691280157     C  \n",
      "99   10.67954489913499     B  \n",
      "\n",
      "[100 rows x 7 columns]\n"
     ]
    }
   ],
   "source": [
    "# try an example\n",
    "data = generate_data(3, 5, 3, 3, 100)\n",
    "print(data)"
   ]
  },
  {
   "cell_type": "code",
   "execution_count": 21,
   "id": "49b793d6-141d-4a01-a339-4eec504c16c0",
   "metadata": {
    "execution": {
     "iopub.execute_input": "2024-12-13T11:50:39.418730Z",
     "iopub.status.busy": "2024-12-13T11:50:39.418167Z",
     "iopub.status.idle": "2024-12-13T11:50:39.423598Z",
     "shell.execute_reply": "2024-12-13T11:50:39.422655Z",
     "shell.execute_reply.started": "2024-12-13T11:50:39.418707Z"
    }
   },
   "outputs": [],
   "source": [
    "n_classes_dep_var = [2, 3, 4]\n",
    "n_ind_vars = [3, 5, 7]\n",
    "n_categorical_vars = np.arange(7)\n",
    "n_classes_ind_vars = [2, 3]\n",
    "n_samples = [100, 500, 1000, 10000]"
   ]
  },
  {
   "cell_type": "code",
   "execution_count": 18,
   "id": "9bd6a05f-1c78-4c14-8d77-42a6ec848b6d",
   "metadata": {
    "execution": {
     "iopub.execute_input": "2024-12-13T11:48:50.495545Z",
     "iopub.status.busy": "2024-12-13T11:48:50.495058Z",
     "iopub.status.idle": "2024-12-13T11:48:58.910191Z",
     "shell.execute_reply": "2024-12-13T11:48:58.909002Z",
     "shell.execute_reply.started": "2024-12-13T11:48:50.495521Z"
    }
   },
   "outputs": [],
   "source": [
    "# Generate and save datasets\n",
    "np.random.seed(3103)\n",
    "for n_classes_dep, n_ind, n_categorical, n_classes_ind, n_samp in product(n_classes_dep_var, n_ind_vars, n_categorical_vars, n_classes_ind_vars, n_samples):\n",
    "    data = generate_data(n_classes_dep, n_ind, n_categorical, n_classes_ind, n_samp)\n",
    "    if data is not None:  # Avoid saving if no data is generated\n",
    "        filename = f'../dat/{n_categorical}_{n_classes_ind}_{n_ind}_{n_classes_dep}_{n_samp}_samples.csv'\n",
    "        data.to_csv(filename, index=False)"
   ]
  }
 ],
 "metadata": {
  "kernelspec": {
   "display_name": "Python (venv)",
   "language": "python",
   "name": "venv"
  },
  "language_info": {
   "codemirror_mode": {
    "name": "ipython",
    "version": 3
   },
   "file_extension": ".py",
   "mimetype": "text/x-python",
   "name": "python",
   "nbconvert_exporter": "python",
   "pygments_lexer": "ipython3",
   "version": "3.13.0"
  }
 },
 "nbformat": 4,
 "nbformat_minor": 5
}
