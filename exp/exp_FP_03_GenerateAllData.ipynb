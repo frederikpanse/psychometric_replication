{
 "cells": [
  {
   "cell_type": "code",
   "execution_count": 2,
   "id": "5d742d9c-d75e-404b-bdd9-abbd6a63cd32",
   "metadata": {
    "execution": {
     "iopub.execute_input": "2024-12-06T13:51:33.343009Z",
     "iopub.status.busy": "2024-12-06T13:51:33.341626Z",
     "iopub.status.idle": "2024-12-06T13:51:33.350325Z",
     "shell.execute_reply": "2024-12-06T13:51:33.348688Z",
     "shell.execute_reply.started": "2024-12-06T13:51:33.342944Z"
    }
   },
   "outputs": [],
   "source": [
    "import numpy as np\n",
    "import pandas as pd"
   ]
  },
  {
   "cell_type": "code",
   "execution_count": 3,
   "id": "4fdfbf76-a616-4e25-a5f3-ef5a4b5c2193",
   "metadata": {
    "execution": {
     "iopub.execute_input": "2024-12-06T13:51:33.780273Z",
     "iopub.status.busy": "2024-12-06T13:51:33.779369Z",
     "iopub.status.idle": "2024-12-06T13:51:33.795813Z",
     "shell.execute_reply": "2024-12-06T13:51:33.793773Z",
     "shell.execute_reply.started": "2024-12-06T13:51:33.780222Z"
    }
   },
   "outputs": [],
   "source": [
    "# what varies for all data sets\n",
    "# n_classes_dep_var = \n",
    "# n_ind_vars =\n",
    "# n_classes_ind_vars = \n",
    "# n_samples = \n",
    "\n",
    "def generate_data(n_classes_dep_var, n_ind_vars, n_classes_ind_vars, n_samples):\n",
    "    # set coefficients for the model\n",
    "    coef = [3, 2, 2, 1, 1, 0.5, 0.5]\n",
    "    coef = coef[:n_ind_vars]\n",
    "\n",
    "    # generate n x p array for independent variables (predictors)\n",
    "    X = np.random.uniform(0, 1, (n_samples, n_ind_vars))\n",
    "\n",
    "    # generate error term\n",
    "    e = np.random.normal(0, 1, n_samples)\n",
    "\n",
    "    # calculate y continuous\n",
    "    y_continuous = 1 + np.dot(X, coef) + e\n",
    "\n",
    "    # convert y to categorical\n",
    "    # keep working from here\n",
    "    if n_classes_dep_var == 2:\n",
    "        y_categorical = np.where(y_continuous < np.quantile(y_continuous, 0.5), 'A', 'B')\n",
    "    elif n_classes_dep_var == 3: \n",
    "        y_categorical = np.where(y_continuous < np.quantile(y_continuous, 0.25), 'A',\n",
    "                                 np.where(y_continuous > np.quantile(y_continuous, 0.75), 'B', 'C'))\n",
    "    elif n_classes_dep_var == 4: \n",
    "        y_categorical = np.where(y_continuous < np.quantile(y_continuous, 0.25), 'A',\n",
    "                                 np.where(y_continuous < np.quantile(y_continuous, 0.5), 'B',\n",
    "                                 np.where(y_continuous < np.quantile(y_continuous, 0.75), 'C', 'D')))\n",
    "\n",
    "    # create data that is to be returned\n",
    "    data_mat = np.concatenate((X, y_continuous.reshape(-1, 1), y_categorical.reshape(-1, 1)), axis = 1)\n",
    "    data = pd.DataFrame(data_mat)\n",
    "    # Rename columns to X1, X2, ..., y_cont, y_cat\n",
    "    data.columns = [f'X{i+1}' for i in range(n_ind_vars)] + ['y_cont', 'y_cat']\n",
    "\n",
    "    return(data)\n"
   ]
  },
  {
   "cell_type": "code",
   "execution_count": 4,
   "id": "95217822-7f85-40d4-b37c-24d01a5db2b3",
   "metadata": {
    "execution": {
     "iopub.execute_input": "2024-12-06T13:51:34.733485Z",
     "iopub.status.busy": "2024-12-06T13:51:34.732689Z",
     "iopub.status.idle": "2024-12-06T13:51:34.771750Z",
     "shell.execute_reply": "2024-12-06T13:51:34.770107Z",
     "shell.execute_reply.started": "2024-12-06T13:51:34.733436Z"
    }
   },
   "outputs": [
    {
     "name": "stdout",
     "output_type": "stream",
     "text": [
      "                     X1                   X2                    X3  \\\n",
      "0    0.7001170636665754   0.5076038832211137   0.12386117662686369   \n",
      "1    0.4178859561810945   0.5191980626711906    0.7969823911358124   \n",
      "2   0.04219673948009661   0.6294299679662735    0.9311003408679961   \n",
      "3     0.626323577505594  0.22107418519469724    0.9319170919312793   \n",
      "4    0.6504474681170278  0.13651485665620722    0.7458740244777678   \n",
      "..                  ...                  ...                   ...   \n",
      "95  0.07348328032112317  0.08267748630213345   0.08202088722644851   \n",
      "96   0.9094703729561132   0.7391294928951823  0.005410062887529432   \n",
      "97   0.8212865112113674  0.15828307417479037    0.2250969445949288   \n",
      "98   0.7915002477139209   0.2889854522278008    0.6840415632859603   \n",
      "99   0.6917067406620524  0.44233103537997187   0.22383805966807568   \n",
      "\n",
      "                y_cont y_cat  \n",
      "0   3.9388930882014983     C  \n",
      "1    5.522436586759499     C  \n",
      "2    3.561565420190478     C  \n",
      "3    5.256654929063483     C  \n",
      "4    5.970045437445377     B  \n",
      "..                 ...   ...  \n",
      "95   1.715501520239585     A  \n",
      "96   6.906588575346658     B  \n",
      "97    5.68825414925021     C  \n",
      "98  6.4712611443336785     B  \n",
      "99   5.381497668215561     C  \n",
      "\n",
      "[100 rows x 5 columns]\n"
     ]
    }
   ],
   "source": [
    "# try an example\n",
    "data = generate_data(3, 3, 0, 100)\n",
    "print(data)"
   ]
  },
  {
   "cell_type": "code",
   "execution_count": 6,
   "id": "49b793d6-141d-4a01-a339-4eec504c16c0",
   "metadata": {
    "execution": {
     "iopub.execute_input": "2024-12-06T14:07:32.299311Z",
     "iopub.status.busy": "2024-12-06T14:07:32.298706Z",
     "iopub.status.idle": "2024-12-06T14:07:32.307918Z",
     "shell.execute_reply": "2024-12-06T14:07:32.305364Z",
     "shell.execute_reply.started": "2024-12-06T14:07:32.299265Z"
    }
   },
   "outputs": [],
   "source": [
    "n_classes_dep_var = [2, 3, 4]\n",
    "n_ind_vars = [3, 5, 7]\n",
    "n_classes_ind_vars = np.arange(6)\n",
    "n_samples = [100, 500, 1000, 10000]"
   ]
  }
 ],
 "metadata": {
  "kernelspec": {
   "display_name": "Python (venv)",
   "language": "python",
   "name": "venv"
  },
  "language_info": {
   "codemirror_mode": {
    "name": "ipython",
    "version": 3
   },
   "file_extension": ".py",
   "mimetype": "text/x-python",
   "name": "python",
   "nbconvert_exporter": "python",
   "pygments_lexer": "ipython3",
   "version": "3.10.15"
  }
 },
 "nbformat": 4,
 "nbformat_minor": 5
}
