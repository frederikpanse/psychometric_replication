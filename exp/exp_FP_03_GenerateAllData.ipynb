{
 "cells": [
  {
   "cell_type": "code",
   "execution_count": 21,
   "id": "5d742d9c-d75e-404b-bdd9-abbd6a63cd32",
   "metadata": {
    "execution": {
     "iopub.execute_input": "2024-12-09T15:50:26.725147Z",
     "iopub.status.busy": "2024-12-09T15:50:26.724341Z",
     "iopub.status.idle": "2024-12-09T15:50:26.732738Z",
     "shell.execute_reply": "2024-12-09T15:50:26.730296Z",
     "shell.execute_reply.started": "2024-12-09T15:50:26.725087Z"
    }
   },
   "outputs": [],
   "source": [
    "import numpy as np\n",
    "import pandas as pd\n",
    "from itertools import product"
   ]
  },
  {
   "cell_type": "code",
   "execution_count": 49,
   "id": "4fdfbf76-a616-4e25-a5f3-ef5a4b5c2193",
   "metadata": {
    "execution": {
     "iopub.execute_input": "2024-12-09T16:25:14.216446Z",
     "iopub.status.busy": "2024-12-09T16:25:14.215937Z",
     "iopub.status.idle": "2024-12-09T16:25:14.236492Z",
     "shell.execute_reply": "2024-12-09T16:25:14.233745Z",
     "shell.execute_reply.started": "2024-12-09T16:25:14.216401Z"
    }
   },
   "outputs": [],
   "source": [
    "# what varies for all data sets\n",
    "# n_classes_dep_var = \n",
    "# n_ind_vars =\n",
    "# n_classes_ind_vars = \n",
    "# n_samples = \n",
    "\n",
    "def generate_data(n_classes_dep_var, n_ind_vars, n_categorical_vars, n_classes_ind_vars, n_samples):\n",
    "    \n",
    "    # set coefficients for the model\n",
    "    coef = [3, 2, 2, 1, 1, 0.5, 0.5]\n",
    "    coef = coef[:n_ind_vars]\n",
    "\n",
    "    # generate n x p array for independent variables (predictors)\n",
    "    X = np.random.uniform(0, 1, (n_samples, n_ind_vars))\n",
    "\n",
    "    # convert independent continuous variables into categorical ones\n",
    "    if n_categorical_vars == 0:\n",
    "        pass\n",
    "    elif n_categorical_vars >= n_ind_vars:\n",
    "        return None\n",
    "    else:\n",
    "        for i in range(1, n_categorical_vars + 1):\n",
    "            if n_classes_ind_vars == 2:\n",
    "                X[:, -i] = np.where(X[:, -i] < np.quantile(X[:, -i], 0.5), 0, 1)  # 0 and 1 for binary\n",
    "            elif n_classes_ind_vars == 3:\n",
    "                X[:, -i] = np.where(X[:, -i] < np.quantile(X[:, -i], 0.25), 0,\n",
    "                                    np.where(X[:, -i] > np.quantile(X[:, -i], 0.75), 2, 1))  # 0, 1, 2 for ternary\n",
    "            \n",
    "        \n",
    "\n",
    "    # generate error term\n",
    "    e = np.random.normal(0, 1, n_samples)\n",
    "\n",
    "    # calculate y continuous\n",
    "    y_continuous = 1 + np.dot(X, coef) + e\n",
    "\n",
    "    # convert y to categorical\n",
    "    # keep working from here\n",
    "    if n_classes_dep_var == 2:\n",
    "        y_categorical = np.where(y_continuous < np.quantile(y_continuous, 0.5), 'A', 'B')\n",
    "    elif n_classes_dep_var == 3: \n",
    "        y_categorical = np.where(y_continuous < np.quantile(y_continuous, 0.25), 'A',\n",
    "                                 np.where(y_continuous > np.quantile(y_continuous, 0.75), 'B', 'C'))\n",
    "    elif n_classes_dep_var == 4: \n",
    "        y_categorical = np.where(y_continuous < np.quantile(y_continuous, 0.25), 'A',\n",
    "                                 np.where(y_continuous < np.quantile(y_continuous, 0.5), 'B',\n",
    "                                 np.where(y_continuous < np.quantile(y_continuous, 0.75), 'C', 'D')))\n",
    "\n",
    "    # create data that is to be returned\n",
    "    data_mat = np.concatenate((X, y_continuous.reshape(-1, 1), y_categorical.reshape(-1, 1)), axis = 1)\n",
    "    data = pd.DataFrame(data_mat)\n",
    "    # Rename columns to X1, X2, ..., y_cont, y_cat\n",
    "    data.columns = [f'X{i+1}' for i in range(n_ind_vars)] + ['y_cont', 'y_cat']\n",
    "\n",
    "    return(data)\n"
   ]
  },
  {
   "cell_type": "code",
   "execution_count": 54,
   "id": "95217822-7f85-40d4-b37c-24d01a5db2b3",
   "metadata": {
    "execution": {
     "iopub.execute_input": "2024-12-09T16:26:09.321075Z",
     "iopub.status.busy": "2024-12-09T16:26:09.319647Z",
     "iopub.status.idle": "2024-12-09T16:26:09.338580Z",
     "shell.execute_reply": "2024-12-09T16:26:09.336897Z",
     "shell.execute_reply.started": "2024-12-09T16:26:09.321014Z"
    }
   },
   "outputs": [
    {
     "name": "stdout",
     "output_type": "stream",
     "text": [
      "                     X1                   X2   X3   X4   X5  \\\n",
      "0   0.20977688055881916   0.4403812212024105  1.0  2.0  1.0   \n",
      "1   0.40233406611639577   0.3320230459319813  0.0  2.0  1.0   \n",
      "2    0.5462434945685797   0.8238557999576877  2.0  1.0  0.0   \n",
      "3    0.1865751301769858  0.22539052299925888  1.0  1.0  2.0   \n",
      "4    0.3415266372547233  0.40565642215317965  0.0  2.0  2.0   \n",
      "..                  ...                  ...  ...  ...  ...   \n",
      "95   0.6764349554072392   0.1591751383734139  2.0  0.0  2.0   \n",
      "96   0.7876026893327273   0.5932156939740709  0.0  2.0  2.0   \n",
      "97   0.8976687176191915    0.128608788161791  0.0  1.0  1.0   \n",
      "98  0.15680399726911687  0.13920666210079624  1.0  0.0  1.0   \n",
      "99   0.4142320821966565   0.6846783248864199  1.0  0.0  2.0   \n",
      "\n",
      "                y_cont y_cat  \n",
      "0    8.792725013039218     C  \n",
      "1    6.602246323863397     C  \n",
      "2     7.94626348945299     C  \n",
      "3    7.807943267654147     C  \n",
      "4    8.678372904775319     C  \n",
      "..                 ...   ...  \n",
      "95  10.129349064989242     B  \n",
      "96   9.198561589907035     C  \n",
      "97  5.4816150336138145     A  \n",
      "98  3.9871607994037532     A  \n",
      "99    7.67630390873969     C  \n",
      "\n",
      "[100 rows x 7 columns]\n"
     ]
    }
   ],
   "source": [
    "# try an example\n",
    "data = generate_data(3, 5, 3, 3, 100)\n",
    "print(data)"
   ]
  },
  {
   "cell_type": "code",
   "execution_count": 4,
   "id": "49b793d6-141d-4a01-a339-4eec504c16c0",
   "metadata": {
    "execution": {
     "iopub.execute_input": "2024-12-09T15:04:22.350264Z",
     "iopub.status.busy": "2024-12-09T15:04:22.348971Z",
     "iopub.status.idle": "2024-12-09T15:04:22.358251Z",
     "shell.execute_reply": "2024-12-09T15:04:22.356309Z",
     "shell.execute_reply.started": "2024-12-09T15:04:22.350195Z"
    }
   },
   "outputs": [],
   "source": [
    "n_classes_dep_var = [2, 3, 4]\n",
    "n_ind_vars = [3, 5, 7]\n",
    "n_categorical_vars = np.arange(7)\n",
    "n_classes_ind_vars = [2, 3]\n",
    "n_samples = [100, 500, 1000, 10000]"
   ]
  },
  {
   "cell_type": "code",
   "execution_count": 9,
   "id": "a2dd15e5-901a-4bc9-a725-c87be98dcc1e",
   "metadata": {
    "execution": {
     "iopub.execute_input": "2024-12-09T15:16:27.404023Z",
     "iopub.status.busy": "2024-12-09T15:16:27.403400Z",
     "iopub.status.idle": "2024-12-09T15:16:27.538978Z",
     "shell.execute_reply": "2024-12-09T15:16:27.538056Z",
     "shell.execute_reply.started": "2024-12-09T15:16:27.403970Z"
    }
   },
   "outputs": [],
   "source": [
    "# looping over all sample sizes\n",
    "for sample in np.arange(len(n_samples)):\n",
    "    data = generate_data(3, 3, 0, n_samples[sample])\n",
    "    data.to_csv(f'../dat/{n_samples[sample]}_samples.csv', index=False)"
   ]
  },
  {
   "cell_type": "code",
   "execution_count": 10,
   "id": "51a8d1b4-5490-4e1b-9969-d05b2b275b33",
   "metadata": {
    "execution": {
     "iopub.execute_input": "2024-12-09T15:20:34.725116Z",
     "iopub.status.busy": "2024-12-09T15:20:34.724412Z",
     "iopub.status.idle": "2024-12-09T15:20:35.040210Z",
     "shell.execute_reply": "2024-12-09T15:20:35.039126Z",
     "shell.execute_reply.started": "2024-12-09T15:20:34.725066Z"
    }
   },
   "outputs": [],
   "source": [
    "# looping over all sample sizes and number of classes of dependent variables\n",
    "for sample in np.arange(len(n_samples)):\n",
    "    for classes_dep_var in np.arange(len(n_classes_dep_var)):\n",
    "        data = generate_data(n_classes_dep_var[classes_dep_var], 3, 0, n_samples[sample])\n",
    "        data.to_csv(f'../dat/{n_classes_dep_var[classes_dep_var]}_{n_samples[sample]}_samples.csv', index=False)"
   ]
  },
  {
   "cell_type": "code",
   "execution_count": 11,
   "id": "5a0d0b4c-d592-4ac4-bba0-6c207732bcd3",
   "metadata": {
    "execution": {
     "iopub.execute_input": "2024-12-09T15:24:19.604102Z",
     "iopub.status.busy": "2024-12-09T15:24:19.603048Z",
     "iopub.status.idle": "2024-12-09T15:24:20.883334Z",
     "shell.execute_reply": "2024-12-09T15:24:20.882477Z",
     "shell.execute_reply.started": "2024-12-09T15:24:19.604046Z"
    }
   },
   "outputs": [],
   "source": [
    "# looping over all sample sizes and # of classes of dependent variables and # of independent variables\n",
    "for sample in np.arange(len(n_samples)):\n",
    "    for classes_dep_var in np.arange(len(n_classes_dep_var)):\n",
    "        for ind_vars in np.arange(len(n_ind_vars)):\n",
    "            data = generate_data(n_classes_dep_var[classes_dep_var], n_ind_vars[ind_vars], 0, n_samples[sample])\n",
    "            data.to_csv(f'../dat/{n_classes_dep_var[classes_dep_var]}_{n_ind_vars[ind_vars]}_{n_samples[sample]}_samples.csv', \n",
    "                        index=False)"
   ]
  },
  {
   "cell_type": "code",
   "execution_count": 11,
   "id": "081e8d4b-0140-4e0d-9840-1fb1919db6a1",
   "metadata": {
    "execution": {
     "iopub.execute_input": "2024-12-09T15:24:19.604102Z",
     "iopub.status.busy": "2024-12-09T15:24:19.603048Z",
     "iopub.status.idle": "2024-12-09T15:24:20.883334Z",
     "shell.execute_reply": "2024-12-09T15:24:20.882477Z",
     "shell.execute_reply.started": "2024-12-09T15:24:19.604046Z"
    }
   },
   "outputs": [],
   "source": [
    "# looping over all arguments of the function\n",
    "for i in np.arange(len(n_samples)):\n",
    "    for j in np.arange(len(n_classes_dep_var)):\n",
    "        for k in np.arange(len(n_ind_vars)):\n",
    "            for l in np.arange(len(n_classes_ind_vars)):\n",
    "                data = generate_data(n_classes_dep_var[j], n_ind_vars[k], n_classes_ind_vars[l], n_samples[i])\n",
    "                data.to_csv(f'../dat/{n_classes_dep_var[j]}_{n_ind_vars[k]}_{n_classes_ind_vars[k]}_{n_samples[i]}_samples.csv', \n",
    "                            index=False)"
   ]
  },
  {
   "cell_type": "code",
   "execution_count": 22,
   "id": "890e5524-e33d-46b8-8d14-3713ce82ea3d",
   "metadata": {
    "execution": {
     "iopub.execute_input": "2024-12-09T15:51:27.651454Z",
     "iopub.status.busy": "2024-12-09T15:51:27.650689Z",
     "iopub.status.idle": "2024-12-09T15:51:34.080925Z",
     "shell.execute_reply": "2024-12-09T15:51:34.079662Z",
     "shell.execute_reply.started": "2024-12-09T15:51:27.651392Z"
    }
   },
   "outputs": [],
   "source": [
    "# Generate and save datasets\n",
    "# TODO: add n_categorical_vars\n",
    "for n_classes_dep, n_ind, n_classes_ind, n_samp in product(n_classes_dep_var, n_ind_vars, n_classes_ind_vars, n_samples):\n",
    "    data = generate_data(n_classes_dep, n_ind, n_classes_ind, n_samp)\n",
    "    if data is not None:  # Avoid saving if no data is generated\n",
    "        filename = f'../dat/{n_classes_dep}_{n_ind}_{n_classes_ind}_{n_samp}_samples.csv'\n",
    "        data.to_csv(filename, index=False)"
   ]
  }
 ],
 "metadata": {
  "kernelspec": {
   "display_name": "Python (venv)",
   "language": "python",
   "name": "venv"
  },
  "language_info": {
   "codemirror_mode": {
    "name": "ipython",
    "version": 3
   },
   "file_extension": ".py",
   "mimetype": "text/x-python",
   "name": "python",
   "nbconvert_exporter": "python",
   "pygments_lexer": "ipython3",
   "version": "3.10.15"
  }
 },
 "nbformat": 4,
 "nbformat_minor": 5
}
