{
 "cells": [
  {
   "cell_type": "markdown",
   "id": "f8cd7c9b-2ffa-44ea-a1e6-5792afef764f",
   "metadata": {},
   "source": [
    "Showing how a decision tree can work for a single first data set."
   ]
  },
  {
   "cell_type": "code",
   "execution_count": 23,
   "id": "7a66dec5-e672-4bd2-ac6d-63d5034727e3",
   "metadata": {
    "execution": {
     "iopub.execute_input": "2024-12-05T18:21:32.967773Z",
     "iopub.status.busy": "2024-12-05T18:21:32.967189Z",
     "iopub.status.idle": "2024-12-05T18:21:32.971461Z",
     "shell.execute_reply": "2024-12-05T18:21:32.970754Z",
     "shell.execute_reply.started": "2024-12-05T18:21:32.967752Z"
    }
   },
   "outputs": [],
   "source": [
    "import numpy as np\n",
    "import pandas as pd\n",
    "from sklearn import tree"
   ]
  },
  {
   "cell_type": "code",
   "execution_count": 24,
   "id": "0852cdaa-4b01-4423-a445-0d0a64cbbec3",
   "metadata": {
    "execution": {
     "iopub.execute_input": "2024-12-05T18:21:33.104910Z",
     "iopub.status.busy": "2024-12-05T18:21:33.104542Z",
     "iopub.status.idle": "2024-12-05T18:21:33.115227Z",
     "shell.execute_reply": "2024-12-05T18:21:33.114225Z",
     "shell.execute_reply.started": "2024-12-05T18:21:33.104892Z"
    }
   },
   "outputs": [
    {
     "name": "stdout",
     "output_type": "stream",
     "text": [
      "          x1        x2        x3  y_continuous y_categorical\n",
      "0   0.533520  0.543085  0.893984      4.546080             B\n",
      "1   0.714119  0.743904  0.119002      4.203377             B\n",
      "2   0.325493  0.789206  0.554399      2.928728             B\n",
      "3   0.228712  0.381822  0.694399      2.786589             B\n",
      "4   0.987541  0.550945  0.004898      5.185072             A\n",
      "..       ...       ...       ...           ...           ...\n",
      "95  0.624695  0.995311  0.529423      6.024195             A\n",
      "96  0.706491  0.619494  0.975037      7.685146             A\n",
      "97  0.922969  0.242019  0.402067      5.851546             A\n",
      "98  0.156821  0.624326  0.224659      2.837609             B\n",
      "99  0.875626  0.826088  0.681208      4.597759             B\n",
      "\n",
      "[100 rows x 5 columns]\n"
     ]
    }
   ],
   "source": [
    "# get data\n",
    "df = pd.read_csv(\"../dat/first_data.csv\")\n",
    "print(df)"
   ]
  },
  {
   "cell_type": "code",
   "execution_count": 25,
   "id": "492eadbd-d944-4a18-bdbc-11826f57f405",
   "metadata": {
    "execution": {
     "iopub.execute_input": "2024-12-05T18:21:33.264630Z",
     "iopub.status.busy": "2024-12-05T18:21:33.263806Z",
     "iopub.status.idle": "2024-12-05T18:21:33.272992Z",
     "shell.execute_reply": "2024-12-05T18:21:33.272069Z",
     "shell.execute_reply.started": "2024-12-05T18:21:33.264605Z"
    }
   },
   "outputs": [
    {
     "name": "stdout",
     "output_type": "stream",
     "text": [
      "          x1        x2        x3  y_continuous  y_categorical\n",
      "0   0.533520  0.543085  0.893984      4.546080              0\n",
      "1   0.714119  0.743904  0.119002      4.203377              0\n",
      "2   0.325493  0.789206  0.554399      2.928728              0\n",
      "3   0.228712  0.381822  0.694399      2.786589              0\n",
      "4   0.987541  0.550945  0.004898      5.185072              1\n",
      "..       ...       ...       ...           ...            ...\n",
      "95  0.624695  0.995311  0.529423      6.024195              1\n",
      "96  0.706491  0.619494  0.975037      7.685146              1\n",
      "97  0.922969  0.242019  0.402067      5.851546              1\n",
      "98  0.156821  0.624326  0.224659      2.837609              0\n",
      "99  0.875626  0.826088  0.681208      4.597759              0\n",
      "\n",
      "[100 rows x 5 columns]\n"
     ]
    }
   ],
   "source": [
    "# all variables have to be numerical for decision tree\n",
    "d = {'A': 1, 'B': 0}\n",
    "df['y_categorical'] = df['y_categorical'].map(d)\n",
    "print(df)"
   ]
  },
  {
   "cell_type": "code",
   "execution_count": 26,
   "id": "e0c68f55-b328-4c7d-9c4f-07faf617d0b0",
   "metadata": {
    "execution": {
     "iopub.execute_input": "2024-12-05T18:21:33.456620Z",
     "iopub.status.busy": "2024-12-05T18:21:33.456222Z",
     "iopub.status.idle": "2024-12-05T18:21:33.465194Z",
     "shell.execute_reply": "2024-12-05T18:21:33.464270Z",
     "shell.execute_reply.started": "2024-12-05T18:21:33.456603Z"
    }
   },
   "outputs": [
    {
     "name": "stdout",
     "output_type": "stream",
     "text": [
      "          x1        x2        x3\n",
      "0   0.533520  0.543085  0.893984\n",
      "1   0.714119  0.743904  0.119002\n",
      "2   0.325493  0.789206  0.554399\n",
      "3   0.228712  0.381822  0.694399\n",
      "4   0.987541  0.550945  0.004898\n",
      "..       ...       ...       ...\n",
      "95  0.624695  0.995311  0.529423\n",
      "96  0.706491  0.619494  0.975037\n",
      "97  0.922969  0.242019  0.402067\n",
      "98  0.156821  0.624326  0.224659\n",
      "99  0.875626  0.826088  0.681208\n",
      "\n",
      "[100 rows x 3 columns]\n",
      "0     0\n",
      "1     0\n",
      "2     0\n",
      "3     0\n",
      "4     1\n",
      "     ..\n",
      "95    1\n",
      "96    1\n",
      "97    1\n",
      "98    0\n",
      "99    0\n",
      "Name: y_categorical, Length: 100, dtype: int64\n"
     ]
    }
   ],
   "source": [
    "X = df.filter(like='x')\n",
    "Y = df['y_categorical']\n",
    "print(X)\n",
    "print(Y)"
   ]
  },
  {
   "cell_type": "code",
   "execution_count": 27,
   "id": "ba080646-fb81-4b48-899c-7bef8f0562ff",
   "metadata": {
    "execution": {
     "iopub.execute_input": "2024-12-05T18:21:34.031996Z",
     "iopub.status.busy": "2024-12-05T18:21:34.031489Z",
     "iopub.status.idle": "2024-12-05T18:21:34.038787Z",
     "shell.execute_reply": "2024-12-05T18:21:34.038036Z",
     "shell.execute_reply.started": "2024-12-05T18:21:34.031972Z"
    }
   },
   "outputs": [],
   "source": [
    "clf = tree.DecisionTreeClassifier()\n",
    "clf = clf.fit(X, Y)"
   ]
  },
  {
   "cell_type": "code",
   "execution_count": 28,
   "id": "28b2149a-e3b2-48a0-af8c-5ed89fabb8db",
   "metadata": {
    "execution": {
     "iopub.execute_input": "2024-12-05T18:21:34.424879Z",
     "iopub.status.busy": "2024-12-05T18:21:34.424393Z",
     "iopub.status.idle": "2024-12-05T18:21:34.430577Z",
     "shell.execute_reply": "2024-12-05T18:21:34.429572Z",
     "shell.execute_reply.started": "2024-12-05T18:21:34.424856Z"
    }
   },
   "outputs": [],
   "source": [
    "y_pred = clf.predict(X)"
   ]
  },
  {
   "cell_type": "code",
   "execution_count": 29,
   "id": "fece5750-73d0-4059-aec5-4a4710656659",
   "metadata": {
    "execution": {
     "iopub.execute_input": "2024-12-05T18:21:34.864926Z",
     "iopub.status.busy": "2024-12-05T18:21:34.864291Z",
     "iopub.status.idle": "2024-12-05T18:21:34.869622Z",
     "shell.execute_reply": "2024-12-05T18:21:34.868718Z",
     "shell.execute_reply.started": "2024-12-05T18:21:34.864890Z"
    }
   },
   "outputs": [
    {
     "name": "stdout",
     "output_type": "stream",
     "text": [
      "0.0\n"
     ]
    }
   ],
   "source": [
    "print(np.sum(Y != y_pred) / len(Y))"
   ]
  },
  {
   "cell_type": "code",
   "execution_count": null,
   "id": "879f9211-86fd-42b1-8b9a-1e4ab8796752",
   "metadata": {},
   "outputs": [],
   "source": []
  }
 ],
 "metadata": {
  "kernelspec": {
   "display_name": "Python (venv)",
   "language": "python",
   "name": "venv"
  },
  "language_info": {
   "codemirror_mode": {
    "name": "ipython",
    "version": 3
   },
   "file_extension": ".py",
   "mimetype": "text/x-python",
   "name": "python",
   "nbconvert_exporter": "python",
   "pygments_lexer": "ipython3",
   "version": "3.10.15"
  }
 },
 "nbformat": 4,
 "nbformat_minor": 5
}
