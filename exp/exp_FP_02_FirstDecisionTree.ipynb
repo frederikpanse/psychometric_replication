{
 "cells": [
  {
   "cell_type": "markdown",
   "id": "f8cd7c9b-2ffa-44ea-a1e6-5792afef764f",
   "metadata": {},
   "source": [
    "Showing how a decision tree can work for a single first data set."
   ]
  },
  {
   "cell_type": "code",
   "execution_count": 3,
   "id": "7a66dec5-e672-4bd2-ac6d-63d5034727e3",
   "metadata": {
    "execution": {
     "iopub.execute_input": "2024-11-29T13:33:54.635665Z",
     "iopub.status.busy": "2024-11-29T13:33:54.635118Z",
     "iopub.status.idle": "2024-11-29T13:34:51.118368Z",
     "shell.execute_reply": "2024-11-29T13:34:51.117228Z",
     "shell.execute_reply.started": "2024-11-29T13:33:54.635621Z"
    }
   },
   "outputs": [],
   "source": [
    "import numpy as np\n",
    "import pandas as pd\n",
    "from sklearn import tree"
   ]
  },
  {
   "cell_type": "code",
   "execution_count": 5,
   "id": "0852cdaa-4b01-4423-a445-0d0a64cbbec3",
   "metadata": {
    "execution": {
     "iopub.execute_input": "2024-11-29T13:39:08.921961Z",
     "iopub.status.busy": "2024-11-29T13:39:08.921006Z",
     "iopub.status.idle": "2024-11-29T13:39:08.964550Z",
     "shell.execute_reply": "2024-11-29T13:39:08.961905Z",
     "shell.execute_reply.started": "2024-11-29T13:39:08.921878Z"
    }
   },
   "outputs": [
    {
     "name": "stdout",
     "output_type": "stream",
     "text": [
      "          x1        x2        x3  y_continuous y_categorical\n",
      "0   0.533520  0.543085  0.893984      4.546080             B\n",
      "1   0.714119  0.743904  0.119002      4.203377             B\n",
      "2   0.325493  0.789206  0.554399      2.928728             B\n",
      "3   0.228712  0.381822  0.694399      2.786589             B\n",
      "4   0.987541  0.550945  0.004898      5.185072             A\n",
      "..       ...       ...       ...           ...           ...\n",
      "95  0.624695  0.995311  0.529423      6.024195             A\n",
      "96  0.706491  0.619494  0.975037      7.685146             A\n",
      "97  0.922969  0.242019  0.402067      5.851546             A\n",
      "98  0.156821  0.624326  0.224659      2.837609             B\n",
      "99  0.875626  0.826088  0.681208      4.597759             B\n",
      "\n",
      "[100 rows x 5 columns]\n"
     ]
    }
   ],
   "source": [
    "# get data\n",
    "df = pd.read_csv(\"../dat/first_data.csv\")\n",
    "print(df)"
   ]
  },
  {
   "cell_type": "code",
   "execution_count": 6,
   "id": "492eadbd-d944-4a18-bdbc-11826f57f405",
   "metadata": {
    "execution": {
     "iopub.execute_input": "2024-11-29T13:43:51.303575Z",
     "iopub.status.busy": "2024-11-29T13:43:51.302789Z",
     "iopub.status.idle": "2024-11-29T13:43:51.324328Z",
     "shell.execute_reply": "2024-11-29T13:43:51.322825Z",
     "shell.execute_reply.started": "2024-11-29T13:43:51.303512Z"
    }
   },
   "outputs": [
    {
     "name": "stdout",
     "output_type": "stream",
     "text": [
      "          x1        x2        x3  y_continuous  y_categorical\n",
      "0   0.533520  0.543085  0.893984      4.546080              0\n",
      "1   0.714119  0.743904  0.119002      4.203377              0\n",
      "2   0.325493  0.789206  0.554399      2.928728              0\n",
      "3   0.228712  0.381822  0.694399      2.786589              0\n",
      "4   0.987541  0.550945  0.004898      5.185072              1\n",
      "..       ...       ...       ...           ...            ...\n",
      "95  0.624695  0.995311  0.529423      6.024195              1\n",
      "96  0.706491  0.619494  0.975037      7.685146              1\n",
      "97  0.922969  0.242019  0.402067      5.851546              1\n",
      "98  0.156821  0.624326  0.224659      2.837609              0\n",
      "99  0.875626  0.826088  0.681208      4.597759              0\n",
      "\n",
      "[100 rows x 5 columns]\n"
     ]
    }
   ],
   "source": [
    "# all variables have to be numerical for decision tree\n",
    "d = {'A': 1, 'B': 0}\n",
    "df['y_categorical'] = df['y_categorical'].map(d)\n",
    "print(df)"
   ]
  },
  {
   "cell_type": "code",
   "execution_count": 8,
   "id": "e0c68f55-b328-4c7d-9c4f-07faf617d0b0",
   "metadata": {
    "execution": {
     "iopub.execute_input": "2024-11-29T13:49:08.666926Z",
     "iopub.status.busy": "2024-11-29T13:49:08.666298Z",
     "iopub.status.idle": "2024-11-29T13:49:08.681647Z",
     "shell.execute_reply": "2024-11-29T13:49:08.679912Z",
     "shell.execute_reply.started": "2024-11-29T13:49:08.666874Z"
    }
   },
   "outputs": [
    {
     "name": "stdout",
     "output_type": "stream",
     "text": [
      "          x1        x2        x3\n",
      "0   0.533520  0.543085  0.893984\n",
      "1   0.714119  0.743904  0.119002\n",
      "2   0.325493  0.789206  0.554399\n",
      "3   0.228712  0.381822  0.694399\n",
      "4   0.987541  0.550945  0.004898\n",
      "..       ...       ...       ...\n",
      "95  0.624695  0.995311  0.529423\n",
      "96  0.706491  0.619494  0.975037\n",
      "97  0.922969  0.242019  0.402067\n",
      "98  0.156821  0.624326  0.224659\n",
      "99  0.875626  0.826088  0.681208\n",
      "\n",
      "[100 rows x 3 columns]\n",
      "0     0\n",
      "1     0\n",
      "2     0\n",
      "3     0\n",
      "4     1\n",
      "     ..\n",
      "95    1\n",
      "96    1\n",
      "97    1\n",
      "98    0\n",
      "99    0\n",
      "Name: y_categorical, Length: 100, dtype: int64\n"
     ]
    }
   ],
   "source": [
    "X = df.filter(like='x')\n",
    "Y = df['y_categorical']\n",
    "print(X)\n",
    "print(Y)"
   ]
  },
  {
   "cell_type": "code",
   "execution_count": 12,
   "id": "ba080646-fb81-4b48-899c-7bef8f0562ff",
   "metadata": {
    "execution": {
     "iopub.execute_input": "2024-11-29T13:52:29.607170Z",
     "iopub.status.busy": "2024-11-29T13:52:29.606531Z",
     "iopub.status.idle": "2024-11-29T13:52:29.622806Z",
     "shell.execute_reply": "2024-11-29T13:52:29.621319Z",
     "shell.execute_reply.started": "2024-11-29T13:52:29.607118Z"
    }
   },
   "outputs": [],
   "source": [
    "clf = tree.DecisionTreeClassifier()\n",
    "clf = clf.fit(X, Y)"
   ]
  },
  {
   "cell_type": "code",
   "execution_count": 18,
   "id": "28b2149a-e3b2-48a0-af8c-5ed89fabb8db",
   "metadata": {
    "execution": {
     "iopub.execute_input": "2024-11-29T14:15:08.160887Z",
     "iopub.status.busy": "2024-11-29T14:15:08.159804Z",
     "iopub.status.idle": "2024-11-29T14:15:08.186761Z",
     "shell.execute_reply": "2024-11-29T14:15:08.184172Z",
     "shell.execute_reply.started": "2024-11-29T14:15:08.160810Z"
    }
   },
   "outputs": [
    {
     "data": {
      "text/plain": [
       "0     True\n",
       "1     True\n",
       "2     True\n",
       "3     True\n",
       "4     True\n",
       "      ... \n",
       "95    True\n",
       "96    True\n",
       "97    True\n",
       "98    True\n",
       "99    True\n",
       "Name: y_categorical, Length: 100, dtype: bool"
      ]
     },
     "execution_count": 18,
     "metadata": {},
     "output_type": "execute_result"
    }
   ],
   "source": [
    "y_pred = clf.predict(X)"
   ]
  }
 ],
 "metadata": {
  "kernelspec": {
   "display_name": "Python (venv)",
   "language": "python",
   "name": "venv"
  },
  "language_info": {
   "codemirror_mode": {
    "name": "ipython",
    "version": 3
   },
   "file_extension": ".py",
   "mimetype": "text/x-python",
   "name": "python",
   "nbconvert_exporter": "python",
   "pygments_lexer": "ipython3",
   "version": "3.10.15"
  }
 },
 "nbformat": 4,
 "nbformat_minor": 5
}
